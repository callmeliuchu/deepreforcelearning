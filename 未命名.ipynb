{
 "cells": [
  {
   "cell_type": "code",
   "execution_count": 2,
   "id": "de9abb32",
   "metadata": {},
   "outputs": [],
   "source": [
    "import torch"
   ]
  },
  {
   "cell_type": "code",
   "execution_count": 3,
   "id": "9a090f51",
   "metadata": {},
   "outputs": [],
   "source": [
    "import torch.nn as nn"
   ]
  },
  {
   "cell_type": "code",
   "execution_count": 4,
   "id": "937741c2",
   "metadata": {},
   "outputs": [],
   "source": [
    "import torch.nn.functional as F"
   ]
  },
  {
   "cell_type": "code",
   "execution_count": 5,
   "id": "5649b024",
   "metadata": {},
   "outputs": [],
   "source": [
    "import random"
   ]
  },
  {
   "cell_type": "code",
   "execution_count": 6,
   "id": "f09c67ef",
   "metadata": {},
   "outputs": [],
   "source": [
    "from collections import deque"
   ]
  },
  {
   "cell_type": "code",
   "execution_count": 7,
   "id": "a02a2cfd",
   "metadata": {},
   "outputs": [],
   "source": [
    "from torch.distributions import Categorical"
   ]
  },
  {
   "cell_type": "code",
   "execution_count": 8,
   "id": "4655721e",
   "metadata": {},
   "outputs": [],
   "source": [
    "import numpy as np\n",
    "np.bool8 = np.bool_\n"
   ]
  },
  {
   "cell_type": "code",
   "execution_count": 9,
   "id": "52edb2aa",
   "metadata": {},
   "outputs": [],
   "source": [
    "import gym"
   ]
  },
  {
   "cell_type": "code",
   "execution_count": 10,
   "id": "1eccc611",
   "metadata": {},
   "outputs": [],
   "source": [
    "import os"
   ]
  },
  {
   "cell_type": "code",
   "execution_count": 11,
   "id": "71cfc5a2",
   "metadata": {},
   "outputs": [],
   "source": [
    "import copy"
   ]
  },
  {
   "cell_type": "code",
   "execution_count": 12,
   "id": "a0d6dba5",
   "metadata": {},
   "outputs": [],
   "source": [
    "import matplotlib.pyplot as plt"
   ]
  },
  {
   "cell_type": "code",
   "execution_count": 13,
   "id": "b2dbb2e6",
   "metadata": {},
   "outputs": [],
   "source": [
    "import seaborn as sns"
   ]
  },
  {
   "cell_type": "code",
   "execution_count": 14,
   "id": "334bb5ff",
   "metadata": {},
   "outputs": [],
   "source": [
    "class ActorSoftmax(nn.Module):\n",
    "    \n",
    "    def __init__(self,input_dim,output_dim,hidden_dim=256):\n",
    "        super(ActorSoftmax,self).__init__()\n",
    "        self.fc1 = nn.Linear(input_dim,hidden_dim)\n",
    "        self.fc2 = nn.Linear(hidden_dim,hidden_dim)\n",
    "        self.fc3 = nn.Linear(hidden_dim,output_dim)\n",
    "    \n",
    "    \n",
    "    def forward(self,x):\n",
    "        x = F.relu(self.fc1(x))\n",
    "        x = F.relu(self.fc2(x))\n",
    "        probs = F.softmax(self.fc3(x),dim=1)\n",
    "        return probs"
   ]
  },
  {
   "cell_type": "code",
   "execution_count": 15,
   "id": "1206d8dd",
   "metadata": {},
   "outputs": [],
   "source": [
    "class Critic(nn.Module):\n",
    "    def __init__(self, input_dim, output_dim, hidden_dim=256):\n",
    "        super(Critic, self).__init__()\n",
    "        assert output_dim == 1  # critic must output a single value\n",
    "        self.fc1 = nn.Linear(input_dim, hidden_dim)\n",
    "        self.fc2 = nn.Linear(hidden_dim, hidden_dim)\n",
    "        self.fc3 = nn.Linear(hidden_dim, output_dim)\n",
    "\n",
    "    def forward(self, x):\n",
    "        x = F.relu(self.fc1(x))\n",
    "        x = F.relu(self.fc2(x))\n",
    "        value = self.fc3(x)\n",
    "        return value"
   ]
  },
  {
   "cell_type": "code",
   "execution_count": 16,
   "id": "047b140e",
   "metadata": {},
   "outputs": [],
   "source": [
    "class ReplayBufferQue:\n",
    "    \n",
    "    def __init__(self,capacity: int) -> None:\n",
    "        self.capacity = capacity\n",
    "        self.buffer = deque(maxlen=self.capacity)\n",
    "    \n",
    "    def push(self,transitions):\n",
    "        self.buffer.append(transitions)\n",
    "    \n",
    "    def sample(self,batch_size: int, sequential: bool = False):\n",
    "        if batch_size > len(self.buffer):\n",
    "            batch_size = len(self.deque)\n",
    "        \n",
    "        if sequential:\n",
    "            rand = random.randint(0,len(self.buffer)-batch_size)\n",
    "            batch = [self.buffer[i] for i in range(rand,rand+batch_size)]\n",
    "            return zip(*batch)\n",
    "        else:\n",
    "            batch = random.sample(self.buffer,batch_size)\n",
    "            return zip(*batch)\n",
    "    \n",
    "    def clear(self):\n",
    "        self.buffer.clear()\n",
    "    \n",
    "    def __len__(self):\n",
    "        return len(self.buffer)"
   ]
  },
  {
   "cell_type": "code",
   "execution_count": 17,
   "id": "9ce225b9",
   "metadata": {},
   "outputs": [],
   "source": [
    "class PGReplay(ReplayBufferQue):\n",
    "    def __init__(self):\n",
    "        self.buffer = deque()\n",
    "\n",
    "    def sample(self):\n",
    "        batch = list(self.buffer)\n",
    "        return zip(*batch)"
   ]
  },
  {
   "cell_type": "code",
   "execution_count": 18,
   "id": "b10cf86c",
   "metadata": {},
   "outputs": [],
   "source": [
    "class Agent:\n",
    "    \n",
    "    def __init__(self,cfg) -> None:\n",
    "        self.gamma = cfg.gamma\n",
    "        self.device = torch.device(cfg.device)\n",
    "        self.actor = ActorSoftmax(cfg.n_states,cfg.n_actions,\n",
    "                                 hidden_dim=cfg.actor_hidden_dim).to(self.device)\n",
    "        self.critic = Critic(cfg.n_states,1,hidden_dim=cfg.critic_hidden_dim).to(self.device)\n",
    "        self.actor_optimizer = torch.optim.Adam(self.actor.parameters(), lr=cfg.actor_lr)\n",
    "        self.critic_optimizer = torch.optim.Adam(self.critic.parameters(), lr=cfg.critic_lr)\n",
    "        self.memory = PGReplay()\n",
    "        self.k_epochs = cfg.k_epochs\n",
    "        self.eps_clip = cfg.eps_clip\n",
    "        self.entropy_coef = cfg.entropy_coef\n",
    "        self.sample_count = 0\n",
    "        self.update_freq = cfg.update_freq\n",
    "    \n",
    "    def sample_action(self,state):\n",
    "        self.sample_count += 1\n",
    "        state = torch.tensor(state,device=self.device,dtype=torch.float32).unsqueeze(dim=0)\n",
    "        probs = self.actor(state)\n",
    "        dist = Categorical(probs)\n",
    "        action = dist.sample()\n",
    "        self.log_probs = dist.log_prob(action).detach()\n",
    "        return action.detach().cpu().numpy().item()\n",
    "    \n",
    "    \n",
    "    @torch.no_grad()\n",
    "    def predict_action(self,state):\n",
    "        state = torch.tensor(state,\n",
    "                            device=self.device,\n",
    "                            dtype=torch.float32).unsqueeze(dim=0)\n",
    "        probs = self.actor(state)\n",
    "        dist = Categorical(probs)\n",
    "        action = dist.sample()\n",
    "        return action.detach().cpu().numpy().item()\n",
    "    \n",
    "    def update(self):\n",
    "        if self.sample_count % self.update_freq != 0:\n",
    "            return\n",
    "        old_states,old_actions,old_log_probs,old_rewards,old_dones = \\\n",
    "        self.memory.sample()\n",
    "        old_states = torch.tensor(np.array(old_states), device=self.device, dtype=torch.float32)\n",
    "        old_actions = torch.tensor(np.array(old_actions), device=self.device, dtype=torch.float32)\n",
    "        old_log_probs = torch.tensor(old_log_probs, device=self.device, dtype=torch.float32)\n",
    "        \n",
    "        returns = []\n",
    "        discounted_sum = 0\n",
    "        for reward, done in zip(reversed(old_rewards),\n",
    "                               reversed(old_dones)):\n",
    "            if done:\n",
    "                discounted_sum = 0\n",
    "            discounted_sum = reward + (self.gamma * discounted_sum)\n",
    "            returns.insert(0,discounted_sum)\n",
    "        \n",
    "        returns = torch.tensor(returns,device=self.device,dtype=torch.float32)\n",
    "        returns = (returns - returns.mean()) / (returns.std() + 1e-5)\n",
    "        \n",
    "        for _ in range(self.k_epochs):\n",
    "            values = self.critic(old_states)\n",
    "            advantage = returns - values.detach()\n",
    "            probs = self.actor(old_states)\n",
    "            dist = Categorical(probs)\n",
    "            new_probs = dist.log_prob(old_actions)\n",
    "            ratio = torch.exp(new_probs - old_log_probs)\n",
    "            \n",
    "            surr1 = ratio * advantage\n",
    "            surr2 = torch.clamp(ratio, 1-self.eps_clip,1+self.eps_clip) * advantage\n",
    "            \n",
    "            actor_loss = -torch.min(surr1,surr2).mean() + self.entropy_coef * dist.entropy().mean()\n",
    "            \n",
    "            critic_loss = (returns - values).pow(2).mean()\n",
    "            \n",
    "            self.actor_optimizer.zero_grad()\n",
    "            self.critic_optimizer.zero_grad()\n",
    "            actor_loss.backward()\n",
    "            critic_loss.backward()\n",
    "            self.actor_optimizer.step()\n",
    "            self.critic_optimizer.step()\n",
    "        \n",
    "        self.memory.clear()\n",
    "        "
   ]
  },
  {
   "cell_type": "code",
   "execution_count": 19,
   "id": "9a11c8d0",
   "metadata": {},
   "outputs": [],
   "source": [
    "def train(cfg,env,agent):\n",
    "    print('begin to train')\n",
    "    rewards = []\n",
    "    steps = []\n",
    "    best_ep_reward = 0\n",
    "    output_agent = None\n",
    "    for i_ep in range(cfg.train_eps):\n",
    "        ep_reward = 0\n",
    "        ep_step = 0\n",
    "        state, _ = env.reset()\n",
    "        for _ in range(cfg.max_steps):\n",
    "            ep_step += 1\n",
    "            action = agent.sample_action(state)\n",
    "            next_state,reward,terminated,truncated,_ = env.step(action)\n",
    "            env.render()\n",
    "            agent.memory.push((state,action,agent.log_probs,reward,terminated))\n",
    "            state =  next_state\n",
    "            agent.update()\n",
    "            ep_reward += reward\n",
    "            if terminated:\n",
    "                break\n",
    "        \n",
    "        if (i_ep + 1) % cfg.eval_per_episode == 0:\n",
    "            sum_eval_reward = 0\n",
    "            for _ in range(cfg.eval_eps):\n",
    "                eval_ep_reward = 0\n",
    "                state, _ = env.reset()\n",
    "                for _ in range(cfg.max_steps):\n",
    "                    action = agent.predict_action(state)\n",
    "                    next_state,reward,terminated,truncated,_ = env.step(action)\n",
    "                    state = next_state\n",
    "                    eval_ep_reward += reward\n",
    "                    if terminated:\n",
    "                        break\n",
    "                sum_eval_reward += eval_ep_reward\n",
    "            \n",
    "            mean_eval_reward = sum_eval_reward / cfg.eval_eps\n",
    "            \n",
    "            if mean_eval_reward >= best_ep_reward:\n",
    "                best_ep_reward = mean_eval_reward\n",
    "                output_agent = copy.deepcopy(agent)\n",
    "                print(f\"回合：{i_ep + 1}/{cfg.train_eps}，奖励：{ep_reward:.2f}，评估奖励：{mean_eval_reward:.2f}，最佳评估奖励：{best_ep_reward:.2f}，更新模型！\")\n",
    "            else:\n",
    "                print(f\"回合：{i_ep + 1}/{cfg.train_eps}，奖励：{ep_reward:.2f}，评估奖励：{mean_eval_reward:.2f}，最佳评估奖励：{best_ep_reward:.2f}\")\n",
    "            \n",
    "        steps.append(ep_step)\n",
    "        rewards.append(ep_reward)\n",
    "        \n",
    "    print('finished')\n",
    "    env.close()\n",
    "    return output_agent, {'rewards': rewards}"
   ]
  },
  {
   "cell_type": "code",
   "execution_count": 20,
   "id": "120595f7",
   "metadata": {},
   "outputs": [],
   "source": [
    "def test(cfg, env, agent):\n",
    "    print(\"开始测试！\")\n",
    "    rewards = []\n",
    "    steps = []\n",
    "    for i_ep in range(cfg.test_eps):\n",
    "        ep_reward = 0\n",
    "        ep_step = 0\n",
    "        state, _ = env.reset()  # 修改为符合gym 0.26的接口\n",
    "        for _ in range(cfg.max_steps):\n",
    "            ep_step += 1\n",
    "            action = agent.predict_action(state)\n",
    "            next_state, reward, terminated, truncated, _ = env.step(action)  # 注意这里的返回值\n",
    "            # 可视化环境\n",
    "            env.render()  # 添加这一行\n",
    "            state = next_state\n",
    "            ep_reward += reward\n",
    "            if terminated:  # 这里检查是否结束\n",
    "                break\n",
    "        steps.append(ep_step)\n",
    "        rewards.append(ep_reward)\n",
    "        print(f\"回合：{i_ep + 1}/{cfg.test_eps}，奖励：{ep_reward:.2f}\")\n",
    "    print(\"完成测试\")\n",
    "    env.close()\n",
    "    return {'rewards': rewards}"
   ]
  },
  {
   "cell_type": "code",
   "execution_count": 21,
   "id": "a5e432c5",
   "metadata": {},
   "outputs": [],
   "source": [
    "def all_seed(env, seed=1):\n",
    "    if seed == 0:\n",
    "        return\n",
    "    np.random.seed(seed)\n",
    "    random.seed(seed)\n",
    "    torch.manual_seed(seed)\n",
    "    torch.cuda.manual_seed(seed)\n",
    "    os.environ['PYTHONHASHSEED'] = str(seed)\n",
    "    torch.backends.cudnn.deterministic = True\n",
    "    torch.backends.cudnn.benchmark = False\n",
    "    torch.backends.cudnn.enabled = False"
   ]
  },
  {
   "cell_type": "code",
   "execution_count": 22,
   "id": "adb99e6d",
   "metadata": {},
   "outputs": [],
   "source": [
    "\n",
    "def env_agent_config(cfg):\n",
    "    # env = gym.make(cfg.env_name)\n",
    "    env = gym.make(cfg.env_name, render_mode=\"human\")  # 或 \"rgb_array\"\n",
    "    all_seed(env, seed=cfg.seed)\n",
    "    n_states = env.observation_space.shape[0]\n",
    "    n_actions = env.action_space.n\n",
    "    print(f\"状态空间维度：{n_states}，动作空间维度：{n_actions}\")\n",
    "    setattr(cfg, 'n_states', n_states)\n",
    "    setattr(cfg, 'n_actions', n_actions)\n",
    "    agent = Agent(cfg)\n",
    "    return env, agent"
   ]
  },
  {
   "cell_type": "code",
   "execution_count": 23,
   "id": "7bda696b",
   "metadata": {},
   "outputs": [],
   "source": [
    "class Config:\n",
    "    def __init__(self) -> None:\n",
    "        self.env_name = \"CartPole-v1\"\n",
    "        self.new_step_api = False\n",
    "        self.algo_name = \"PPO\"\n",
    "        self.mode = \"train\"\n",
    "        self.seed = 1\n",
    "        self.device = \"cpu\"\n",
    "        self.train_eps = 200\n",
    "        self.test_eps = 20\n",
    "        self.max_steps = 200\n",
    "        self.eval_eps = 5\n",
    "        self.eval_per_episode = 10\n",
    "        self.gamma = 0.99\n",
    "        self.k_epochs = 4\n",
    "        self.actor_lr = 0.0003\n",
    "        self.critic_lr = 0.0003\n",
    "        self.eps_clip = 0.2\n",
    "        self.entropy_coef = 0.01\n",
    "        self.update_freq = 100\n",
    "        self.actor_hidden_dim = 256\n",
    "        self.critic_hidden_dim = 256\n"
   ]
  },
  {
   "cell_type": "code",
   "execution_count": 24,
   "id": "8d1d3a5c",
   "metadata": {},
   "outputs": [],
   "source": [
    "def smooth(data, weight=0.9):\n",
    "    last = data[0]\n",
    "    smoothed = []\n",
    "    for point in data:\n",
    "        smoothed_val = last * weight + (1 - weight) * point\n",
    "        smoothed.append(smoothed_val)\n",
    "        last = smoothed_val\n",
    "    return smoothed"
   ]
  },
  {
   "cell_type": "code",
   "execution_count": 25,
   "id": "f1f92330",
   "metadata": {},
   "outputs": [],
   "source": [
    "def plot_rewards(rewards, cfg, tag='train'):\n",
    "    sns.set()\n",
    "    plt.figure()\n",
    "    plt.title(f\"{tag}ing curve on {cfg.device} of {cfg.algo_name} for {cfg.env_name}\")\n",
    "    plt.xlabel('epsiodes')\n",
    "    plt.plot(rewards, label='rewards')\n",
    "    plt.plot(smooth(rewards), label='smoothed')\n",
    "    plt.legend()"
   ]
  },
  {
   "cell_type": "code",
   "execution_count": 26,
   "id": "89ed59b1",
   "metadata": {},
   "outputs": [
    {
     "name": "stdout",
     "output_type": "stream",
     "text": [
      "状态空间维度：4，动作空间维度：2\n",
      "begin to train\n"
     ]
    },
    {
     "name": "stderr",
     "output_type": "stream",
     "text": [
      "2025-03-02 13:08:10.558 python[39583:37960217] +[IMKClient subclass]: chose IMKClient_Modern\n",
      "2025-03-02 13:08:10.558 python[39583:37960217] +[IMKInputSession subclass]: chose IMKInputSession_Modern\n"
     ]
    },
    {
     "name": "stdout",
     "output_type": "stream",
     "text": [
      "回合：10/200，奖励：72.00，评估奖励：23.60，最佳评估奖励：23.60，更新模型！\n",
      "回合：20/200，奖励：25.00，评估奖励：33.60，最佳评估奖励：33.60，更新模型！\n",
      "回合：30/200，奖励：19.00，评估奖励：39.20，最佳评估奖励：39.20，更新模型！\n",
      "回合：40/200，奖励：34.00，评估奖励：47.00，最佳评估奖励：47.00，更新模型！\n",
      "回合：50/200，奖励：21.00，评估奖励：36.40，最佳评估奖励：47.00\n",
      "回合：60/200，奖励：30.00，评估奖励：34.80，最佳评估奖励：47.00\n",
      "回合：70/200，奖励：52.00，评估奖励：39.00，最佳评估奖励：47.00\n",
      "回合：80/200，奖励：31.00，评估奖励：80.20，最佳评估奖励：80.20，更新模型！\n",
      "回合：90/200，奖励：114.00，评估奖励：60.20，最佳评估奖励：80.20\n",
      "回合：100/200，奖励：122.00，评估奖励：104.40，最佳评估奖励：104.40，更新模型！\n",
      "回合：110/200，奖励：94.00，评估奖励：158.40，最佳评估奖励：158.40，更新模型！\n",
      "回合：120/200，奖励：187.00，评估奖励：149.20，最佳评估奖励：158.40\n",
      "回合：130/200，奖励：200.00，评估奖励：200.00，最佳评估奖励：200.00，更新模型！\n",
      "回合：140/200，奖励：200.00，评估奖励：200.00，最佳评估奖励：200.00，更新模型！\n",
      "回合：150/200，奖励：170.00，评估奖励：157.20，最佳评估奖励：200.00\n",
      "回合：160/200，奖励：200.00，评估奖励：200.00，最佳评估奖励：200.00，更新模型！\n",
      "回合：170/200，奖励：179.00，评估奖励：171.20，最佳评估奖励：200.00\n",
      "回合：180/200，奖励：138.00，评估奖励：128.60，最佳评估奖励：200.00\n",
      "回合：190/200，奖励：124.00，评估奖励：124.40，最佳评估奖励：200.00\n",
      "回合：200/200，奖励：103.00，评估奖励：116.40，最佳评估奖励：200.00\n",
      "finished\n",
      "开始测试！\n"
     ]
    },
    {
     "ename": "error",
     "evalue": "display Surface quit",
     "output_type": "error",
     "traceback": [
      "\u001b[0;31m---------------------------------------------------------------------------\u001b[0m",
      "\u001b[0;31merror\u001b[0m                                     Traceback (most recent call last)",
      "Cell \u001b[0;32mIn[26], line 5\u001b[0m\n\u001b[1;32m      3\u001b[0m best_agent, res_dic \u001b[38;5;241m=\u001b[39m train(cfg, env, agent)\n\u001b[1;32m      4\u001b[0m plot_rewards(res_dic[\u001b[38;5;124m'\u001b[39m\u001b[38;5;124mrewards\u001b[39m\u001b[38;5;124m'\u001b[39m], cfg, tag\u001b[38;5;241m=\u001b[39m\u001b[38;5;124m\"\u001b[39m\u001b[38;5;124mtrain\u001b[39m\u001b[38;5;124m\"\u001b[39m)\n\u001b[0;32m----> 5\u001b[0m res_dic \u001b[38;5;241m=\u001b[39m \u001b[43mtest\u001b[49m\u001b[43m(\u001b[49m\u001b[43mcfg\u001b[49m\u001b[43m,\u001b[49m\u001b[43m \u001b[49m\u001b[43menv\u001b[49m\u001b[43m,\u001b[49m\u001b[43m \u001b[49m\u001b[43mbest_agent\u001b[49m\u001b[43m)\u001b[49m\n\u001b[1;32m      6\u001b[0m plot_rewards(res_dic[\u001b[38;5;124m'\u001b[39m\u001b[38;5;124mrewards\u001b[39m\u001b[38;5;124m'\u001b[39m], cfg, tag\u001b[38;5;241m=\u001b[39m\u001b[38;5;124m\"\u001b[39m\u001b[38;5;124mtest\u001b[39m\u001b[38;5;124m\"\u001b[39m)\n",
      "Cell \u001b[0;32mIn[20], line 8\u001b[0m, in \u001b[0;36mtest\u001b[0;34m(cfg, env, agent)\u001b[0m\n\u001b[1;32m      6\u001b[0m ep_reward \u001b[38;5;241m=\u001b[39m \u001b[38;5;241m0\u001b[39m\n\u001b[1;32m      7\u001b[0m ep_step \u001b[38;5;241m=\u001b[39m \u001b[38;5;241m0\u001b[39m\n\u001b[0;32m----> 8\u001b[0m state, _ \u001b[38;5;241m=\u001b[39m \u001b[43menv\u001b[49m\u001b[38;5;241;43m.\u001b[39;49m\u001b[43mreset\u001b[49m\u001b[43m(\u001b[49m\u001b[43m)\u001b[49m  \u001b[38;5;66;03m# 修改为符合gym 0.26的接口\u001b[39;00m\n\u001b[1;32m      9\u001b[0m \u001b[38;5;28;01mfor\u001b[39;00m _ \u001b[38;5;129;01min\u001b[39;00m \u001b[38;5;28mrange\u001b[39m(cfg\u001b[38;5;241m.\u001b[39mmax_steps):\n\u001b[1;32m     10\u001b[0m     ep_step \u001b[38;5;241m+\u001b[39m\u001b[38;5;241m=\u001b[39m \u001b[38;5;241m1\u001b[39m\n",
      "File \u001b[0;32m~/opt/anaconda3/envs/mem0/lib/python3.10/site-packages/gym/wrappers/time_limit.py:68\u001b[0m, in \u001b[0;36mTimeLimit.reset\u001b[0;34m(self, **kwargs)\u001b[0m\n\u001b[1;32m     59\u001b[0m \u001b[38;5;250m\u001b[39m\u001b[38;5;124;03m\"\"\"Resets the environment with :param:`**kwargs` and sets the number of steps elapsed to zero.\u001b[39;00m\n\u001b[1;32m     60\u001b[0m \n\u001b[1;32m     61\u001b[0m \u001b[38;5;124;03mArgs:\u001b[39;00m\n\u001b[0;32m   (...)\u001b[0m\n\u001b[1;32m     65\u001b[0m \u001b[38;5;124;03m    The reset environment\u001b[39;00m\n\u001b[1;32m     66\u001b[0m \u001b[38;5;124;03m\"\"\"\u001b[39;00m\n\u001b[1;32m     67\u001b[0m \u001b[38;5;28mself\u001b[39m\u001b[38;5;241m.\u001b[39m_elapsed_steps \u001b[38;5;241m=\u001b[39m \u001b[38;5;241m0\u001b[39m\n\u001b[0;32m---> 68\u001b[0m \u001b[38;5;28;01mreturn\u001b[39;00m \u001b[38;5;28;43mself\u001b[39;49m\u001b[38;5;241;43m.\u001b[39;49m\u001b[43menv\u001b[49m\u001b[38;5;241;43m.\u001b[39;49m\u001b[43mreset\u001b[49m\u001b[43m(\u001b[49m\u001b[38;5;241;43m*\u001b[39;49m\u001b[38;5;241;43m*\u001b[39;49m\u001b[43mkwargs\u001b[49m\u001b[43m)\u001b[49m\n",
      "File \u001b[0;32m~/opt/anaconda3/envs/mem0/lib/python3.10/site-packages/gym/wrappers/order_enforcing.py:42\u001b[0m, in \u001b[0;36mOrderEnforcing.reset\u001b[0;34m(self, **kwargs)\u001b[0m\n\u001b[1;32m     40\u001b[0m \u001b[38;5;250m\u001b[39m\u001b[38;5;124;03m\"\"\"Resets the environment with `kwargs`.\"\"\"\u001b[39;00m\n\u001b[1;32m     41\u001b[0m \u001b[38;5;28mself\u001b[39m\u001b[38;5;241m.\u001b[39m_has_reset \u001b[38;5;241m=\u001b[39m \u001b[38;5;28;01mTrue\u001b[39;00m\n\u001b[0;32m---> 42\u001b[0m \u001b[38;5;28;01mreturn\u001b[39;00m \u001b[38;5;28;43mself\u001b[39;49m\u001b[38;5;241;43m.\u001b[39;49m\u001b[43menv\u001b[49m\u001b[38;5;241;43m.\u001b[39;49m\u001b[43mreset\u001b[49m\u001b[43m(\u001b[49m\u001b[38;5;241;43m*\u001b[39;49m\u001b[38;5;241;43m*\u001b[39;49m\u001b[43mkwargs\u001b[49m\u001b[43m)\u001b[49m\n",
      "File \u001b[0;32m~/opt/anaconda3/envs/mem0/lib/python3.10/site-packages/gym/wrappers/env_checker.py:47\u001b[0m, in \u001b[0;36mPassiveEnvChecker.reset\u001b[0;34m(self, **kwargs)\u001b[0m\n\u001b[1;32m     45\u001b[0m     \u001b[38;5;28;01mreturn\u001b[39;00m env_reset_passive_checker(\u001b[38;5;28mself\u001b[39m\u001b[38;5;241m.\u001b[39menv, \u001b[38;5;241m*\u001b[39m\u001b[38;5;241m*\u001b[39mkwargs)\n\u001b[1;32m     46\u001b[0m \u001b[38;5;28;01melse\u001b[39;00m:\n\u001b[0;32m---> 47\u001b[0m     \u001b[38;5;28;01mreturn\u001b[39;00m \u001b[38;5;28;43mself\u001b[39;49m\u001b[38;5;241;43m.\u001b[39;49m\u001b[43menv\u001b[49m\u001b[38;5;241;43m.\u001b[39;49m\u001b[43mreset\u001b[49m\u001b[43m(\u001b[49m\u001b[38;5;241;43m*\u001b[39;49m\u001b[38;5;241;43m*\u001b[39;49m\u001b[43mkwargs\u001b[49m\u001b[43m)\u001b[49m\n",
      "File \u001b[0;32m~/opt/anaconda3/envs/mem0/lib/python3.10/site-packages/gym/envs/classic_control/cartpole.py:206\u001b[0m, in \u001b[0;36mCartPoleEnv.reset\u001b[0;34m(self, seed, options)\u001b[0m\n\u001b[1;32m    203\u001b[0m \u001b[38;5;28mself\u001b[39m\u001b[38;5;241m.\u001b[39msteps_beyond_terminated \u001b[38;5;241m=\u001b[39m \u001b[38;5;28;01mNone\u001b[39;00m\n\u001b[1;32m    205\u001b[0m \u001b[38;5;28;01mif\u001b[39;00m \u001b[38;5;28mself\u001b[39m\u001b[38;5;241m.\u001b[39mrender_mode \u001b[38;5;241m==\u001b[39m \u001b[38;5;124m\"\u001b[39m\u001b[38;5;124mhuman\u001b[39m\u001b[38;5;124m\"\u001b[39m:\n\u001b[0;32m--> 206\u001b[0m     \u001b[38;5;28;43mself\u001b[39;49m\u001b[38;5;241;43m.\u001b[39;49m\u001b[43mrender\u001b[49m\u001b[43m(\u001b[49m\u001b[43m)\u001b[49m\n\u001b[1;32m    207\u001b[0m \u001b[38;5;28;01mreturn\u001b[39;00m np\u001b[38;5;241m.\u001b[39marray(\u001b[38;5;28mself\u001b[39m\u001b[38;5;241m.\u001b[39mstate, dtype\u001b[38;5;241m=\u001b[39mnp\u001b[38;5;241m.\u001b[39mfloat32), {}\n",
      "File \u001b[0;32m~/opt/anaconda3/envs/mem0/lib/python3.10/site-packages/gym/envs/classic_control/cartpole.py:295\u001b[0m, in \u001b[0;36mCartPoleEnv.render\u001b[0;34m(self)\u001b[0m\n\u001b[1;32m    292\u001b[0m gfxdraw\u001b[38;5;241m.\u001b[39mhline(\u001b[38;5;28mself\u001b[39m\u001b[38;5;241m.\u001b[39msurf, \u001b[38;5;241m0\u001b[39m, \u001b[38;5;28mself\u001b[39m\u001b[38;5;241m.\u001b[39mscreen_width, carty, (\u001b[38;5;241m0\u001b[39m, \u001b[38;5;241m0\u001b[39m, \u001b[38;5;241m0\u001b[39m))\n\u001b[1;32m    294\u001b[0m \u001b[38;5;28mself\u001b[39m\u001b[38;5;241m.\u001b[39msurf \u001b[38;5;241m=\u001b[39m pygame\u001b[38;5;241m.\u001b[39mtransform\u001b[38;5;241m.\u001b[39mflip(\u001b[38;5;28mself\u001b[39m\u001b[38;5;241m.\u001b[39msurf, \u001b[38;5;28;01mFalse\u001b[39;00m, \u001b[38;5;28;01mTrue\u001b[39;00m)\n\u001b[0;32m--> 295\u001b[0m \u001b[38;5;28;43mself\u001b[39;49m\u001b[38;5;241;43m.\u001b[39;49m\u001b[43mscreen\u001b[49m\u001b[38;5;241;43m.\u001b[39;49m\u001b[43mblit\u001b[49m\u001b[43m(\u001b[49m\u001b[38;5;28;43mself\u001b[39;49m\u001b[38;5;241;43m.\u001b[39;49m\u001b[43msurf\u001b[49m\u001b[43m,\u001b[49m\u001b[43m \u001b[49m\u001b[43m(\u001b[49m\u001b[38;5;241;43m0\u001b[39;49m\u001b[43m,\u001b[49m\u001b[43m \u001b[49m\u001b[38;5;241;43m0\u001b[39;49m\u001b[43m)\u001b[49m\u001b[43m)\u001b[49m\n\u001b[1;32m    296\u001b[0m \u001b[38;5;28;01mif\u001b[39;00m \u001b[38;5;28mself\u001b[39m\u001b[38;5;241m.\u001b[39mrender_mode \u001b[38;5;241m==\u001b[39m \u001b[38;5;124m\"\u001b[39m\u001b[38;5;124mhuman\u001b[39m\u001b[38;5;124m\"\u001b[39m:\n\u001b[1;32m    297\u001b[0m     pygame\u001b[38;5;241m.\u001b[39mevent\u001b[38;5;241m.\u001b[39mpump()\n",
      "\u001b[0;31merror\u001b[0m: display Surface quit"
     ]
    },
    {
     "data": {
      "image/png": "[encoded data removed]",
      "text/plain": [
       "<Figure size 640x480 with 1 Axes>"
      ]
     },
     "metadata": {},
     "output_type": "display_data"
    }
   ],
   "source": [
    "cfg = Config()\n",
    "env, agent = env_agent_config(cfg)\n",
    "best_agent, res_dic = train(cfg, env, agent)\n",
    "plot_rewards(res_dic['rewards'], cfg, tag=\"train\")\n",
    "res_dic = test(cfg, env, best_agent)\n",
    "plot_rewards(res_dic['rewards'], cfg, tag=\"test\")"
   ]
  },
  {
   "cell_type": "code",
   "execution_count": null,
   "id": "47b7189d",
   "metadata": {},
   "outputs": [],
   "source": []
  },
  {
   "cell_type": "code",
   "execution_count": null,
   "id": "29bd6842",
   "metadata": {},
   "outputs": [],
   "source": []
  },
  {
   "cell_type": "code",
   "execution_count": null,
   "id": "962e5899",
   "metadata": {},
   "outputs": [],
   "source": []
  },
  {
   "cell_type": "code",
   "execution_count": null,
   "id": "7d3504a0-dffb-4d82-9608-f985fd9a2018",
   "metadata": {},
   "outputs": [],
   "source": []
  }
 ],
 "metadata": {
  "kernelspec": {
   "display_name": "mem0",
   "language": "python",
   "name": "mem0"
  },
  "language_info": {
   "codemirror_mode": {
    "name": "ipython",
    "version": 3
   },
   "file_extension": ".py",
   "mimetype": "text/x-python",
   "name": "python",
   "nbconvert_exporter": "python",
   "pygments_lexer": "ipython3",
   "version": "3.10.14"
  }
 },
 "nbformat": 4,
 "nbformat_minor": 5
}
