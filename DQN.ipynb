{
 "cells": [
  {
   "cell_type": "code",
   "execution_count": 1,
   "id": "331f0018",
   "metadata": {},
   "outputs": [],
   "source": [
    "import random\n",
    "import gym"
   ]
  },
  {
   "cell_type": "code",
   "execution_count": 18,
   "id": "731d9d99",
   "metadata": {},
   "outputs": [],
   "source": [
    "import numpy as np\n",
    "np.bool8 = np.bool_"
   ]
  },
  {
   "cell_type": "code",
   "execution_count": 3,
   "id": "014a5129",
   "metadata": {},
   "outputs": [],
   "source": [
    "import collections"
   ]
  },
  {
   "cell_type": "code",
   "execution_count": 4,
   "id": "4a9a9832",
   "metadata": {},
   "outputs": [],
   "source": [
    "from tqdm import tqdm"
   ]
  },
  {
   "cell_type": "code",
   "execution_count": 5,
   "id": "a569f424",
   "metadata": {},
   "outputs": [],
   "source": [
    "import torch"
   ]
  },
  {
   "cell_type": "code",
   "execution_count": 6,
   "id": "e8df06d7",
   "metadata": {},
   "outputs": [],
   "source": [
    "import torch.nn.functional as F"
   ]
  },
  {
   "cell_type": "code",
   "execution_count": 7,
   "id": "84ef1592",
   "metadata": {},
   "outputs": [],
   "source": [
    "import matplotlib.pyplot as plt"
   ]
  },
  {
   "cell_type": "code",
   "execution_count": 41,
   "id": "1f020a3e",
   "metadata": {},
   "outputs": [],
   "source": [
    "class ReplayBuffer:\n",
    "    ''' 经验回放池 '''\n",
    "    def __init__(self, capacity):\n",
    "        self.buffer = collections.deque(maxlen=capacity)  # 队列,先进先出\n",
    "\n",
    "    def add(self, state, action, reward, next_state, done):  # 将数据加入buffer\n",
    "        self.buffer.append((state, action, reward, next_state, done))\n",
    "\n",
    "    def sample(self, batch_size):  # 从buffer中采样数据,数量为batch_size\n",
    "        transitions = random.sample(self.buffer, batch_size)\n",
    "        state, action, reward, next_state, done = zip(*transitions)\n",
    "        return np.array(state), action, reward, np.array(next_state), done\n",
    "\n",
    "    def size(self):  # 目前buffer中数据的数量\n",
    "        return len(self.buffer)"
   ]
  },
  {
   "cell_type": "code",
   "execution_count": 52,
   "id": "72071550",
   "metadata": {},
   "outputs": [],
   "source": [
    "class ReplayBuffer:\n",
    "    \n",
    "    def __init__(self,capacity):\n",
    "        self.buffer = collections.deque(maxlen=capacity)\n",
    "    \n",
    "    def add(self,state,action,reward,next_state,done):\n",
    "        self.buffer.append((state,action,reward,next_state,done))\n",
    "    \n",
    "    def sample(self,batch_size):\n",
    "        transitions = random.sample(self.buffer,batch_size)\n",
    "        state,action,reward,next_state,done = zip(*transitions)\n",
    "        return np.array(state), action, reward, np.array(next_state), done\n",
    "    \n",
    "    def size(self):\n",
    "        return len(self.buffer)"
   ]
  },
  {
   "cell_type": "code",
   "execution_count": 42,
   "id": "0037bed9",
   "metadata": {},
   "outputs": [],
   "source": [
    "class Qnet(torch.nn.Module):\n",
    "    ''' 只有一层隐藏层的Q网络 '''\n",
    "    def __init__(self, state_dim, hidden_dim, action_dim):\n",
    "        super(Qnet, self).__init__()\n",
    "        self.fc1 = torch.nn.Linear(state_dim, hidden_dim)\n",
    "        self.fc2 = torch.nn.Linear(hidden_dim, action_dim)\n",
    "\n",
    "    def forward(self, x):\n",
    "        x = F.relu(self.fc1(x))  # 隐藏层使用ReLU激活函数\n",
    "        return self.fc2(x)"
   ]
  },
  {
   "cell_type": "code",
   "execution_count": 53,
   "id": "e5ce17d3",
   "metadata": {},
   "outputs": [],
   "source": [
    "class Qnet(torch.nn.Module):\n",
    "    \n",
    "    def __init__(self,state_dim,hidden_dim,action_dim):\n",
    "        super(Qnet,self).__init__()\n",
    "        self.fc1 = torch.nn.Linear(state_dim,hidden_dim)\n",
    "        self.fc2 = torch.nn.Linear(hidden_dim,action_dim)\n",
    "    \n",
    "    def forward(self,x):\n",
    "        x = F.relu(self.fc1(x))\n",
    "        return self.fc2(x)"
   ]
  },
  {
   "cell_type": "code",
   "execution_count": 43,
   "id": "1b033170",
   "metadata": {},
   "outputs": [],
   "source": [
    "class DQN:\n",
    "    ''' DQN算法 '''\n",
    "    def __init__(self, state_dim, hidden_dim, action_dim, learning_rate, gamma,\n",
    "                 epsilon, target_update, device):\n",
    "        self.action_dim = action_dim\n",
    "        self.q_net = Qnet(state_dim, hidden_dim,\n",
    "                          self.action_dim).to(device)  # Q网络\n",
    "        # 目标网络\n",
    "        self.target_q_net = Qnet(state_dim, hidden_dim,\n",
    "                                 self.action_dim).to(device)\n",
    "        # 使用Adam优化器\n",
    "        self.optimizer = torch.optim.Adam(self.q_net.parameters(),\n",
    "                                          lr=learning_rate)\n",
    "        self.gamma = gamma  # 折扣因子\n",
    "        self.epsilon = epsilon  # epsilon-贪婪策略\n",
    "        self.target_update = target_update  # 目标网络更新频率\n",
    "        self.count = 0  # 计数器,记录更新次数\n",
    "        self.device = device\n",
    "\n",
    "    def take_action(self, state):  # epsilon-贪婪策略采取动作\n",
    "        if np.random.random() < self.epsilon:\n",
    "            action = np.random.randint(self.action_dim)\n",
    "        else:\n",
    "            state = torch.tensor([state], dtype=torch.float).to(self.device)\n",
    "            action = self.q_net(state).argmax().item()\n",
    "        return action\n",
    "\n",
    "    def update(self, transition_dict):\n",
    "        states = torch.tensor(transition_dict['states'],\n",
    "                              dtype=torch.float).to(self.device)\n",
    "        actions = torch.tensor(transition_dict['actions']).view(-1, 1).to(\n",
    "            self.device)\n",
    "        rewards = torch.tensor(transition_dict['rewards'],\n",
    "                               dtype=torch.float).view(-1, 1).to(self.device)\n",
    "        next_states = torch.tensor(transition_dict['next_states'],\n",
    "                                   dtype=torch.float).to(self.device)\n",
    "        dones = torch.tensor(transition_dict['dones'],\n",
    "                             dtype=torch.float).view(-1, 1).to(self.device)\n",
    "\n",
    "        q_values = self.q_net(states).gather(1, actions)  # Q值\n",
    "        # 下个状态的最大Q值\n",
    "        max_next_q_values = self.target_q_net(next_states).max(1)[0].view(\n",
    "            -1, 1)\n",
    "        q_targets = rewards + self.gamma * max_next_q_values * (1 - dones\n",
    "                                                                )  # TD误差目标\n",
    "        dqn_loss = torch.mean(F.mse_loss(q_values, q_targets))  # 均方误差损失函数\n",
    "        self.optimizer.zero_grad()  # PyTorch中默认梯度会累积,这里需要显式将梯度置为0\n",
    "        dqn_loss.backward()  # 反向传播更新参数\n",
    "        self.optimizer.step()\n",
    "\n",
    "        if self.count % self.target_update == 0:\n",
    "            self.target_q_net.load_state_dict(\n",
    "                self.q_net.state_dict())  # 更新目标网络\n",
    "        self.count += 1"
   ]
  },
  {
   "cell_type": "code",
   "execution_count": 59,
   "id": "0c6da15f",
   "metadata": {},
   "outputs": [],
   "source": [
    "class DQN:\n",
    "    \n",
    "    def __init__(self,state_dim,hidden_dim,action_dim,learning_rate,gamma,\n",
    "                epsilon,target_update,device):\n",
    "        self.action_dim = action_dim\n",
    "        self.q_net = Qnet(state_dim,hidden_dim,self.action_dim).to(device)\n",
    "        self.target_q_net = Qnet(\n",
    "            state_dim,hidden_dim,self.action_dim\n",
    "        ).to(device)\n",
    "        self.optimizer = torch.optim.Adam(\n",
    "            self.q_net.parameters(),\n",
    "            lr=learning_rate\n",
    "        )\n",
    "        self.gamma = gamma\n",
    "        self.epsilon = epsilon\n",
    "        self.target_update = target_update\n",
    "        self.count = 0\n",
    "        self.device = device\n",
    "    \n",
    "    \n",
    "    def take_action(self,state):\n",
    "        if np.random.random() < self.epsilon:\n",
    "            action = np.random.randint(self.action_dim)\n",
    "        else:\n",
    "            state = torch.tensor([state],dtype=torch.float).to(self.device)\n",
    "            action = self.q_net(state).argmax().item()\n",
    "        return action\n",
    "    \n",
    "    def update(self,transition_dict):\n",
    "        states = torch.tensor(transition_dict['states'],\n",
    "                              dtype=torch.float).to(self.device)\n",
    "        actions = torch.tensor(transition_dict['actions']).view(-1, 1).to(\n",
    "            self.device)\n",
    "        rewards = torch.tensor(transition_dict['rewards'],\n",
    "                               dtype=torch.float).view(-1, 1).to(self.device)\n",
    "        next_states = torch.tensor(transition_dict['next_states'],\n",
    "                                   dtype=torch.float).to(self.device)\n",
    "        dones = torch.tensor(transition_dict['dones'],\n",
    "                             dtype=torch.float).view(-1, 1).to(self.device)\n",
    "        \n",
    "        q_values = self.q_net(states).gather(1,actions)\n",
    "        \n",
    "        max_next_q_values = self.target_q_net(next_states).max(1)[0].view(-1,1)\n",
    "        q_targets = rewards + self.gamma * max_next_q_values * (1- dones)\n",
    "        dqn_loss = torch.mean(F.mse_loss(q_values,q_targets))\n",
    "        self.optimizer.zero_grad()\n",
    "        dqn_loss.backward()\n",
    "        self.optimizer.step()\n",
    "        \n",
    "        if self.count % self.target_update == 0:\n",
    "            self.target_q_net.load_state_dict(\n",
    "                self.q_net.state_dict()\n",
    "            )\n",
    "        self.count += 1"
   ]
  },
  {
   "cell_type": "code",
   "execution_count": 60,
   "id": "7dddcd1e",
   "metadata": {},
   "outputs": [],
   "source": [
    "lr = 2e-3\n",
    "num_episodes = 500\n",
    "hidden_dim = 128\n",
    "gamma = 0.98\n",
    "epsilon = 0.01\n",
    "target_update = 10\n",
    "buffer_size = 10000\n",
    "minimal_size = 500\n",
    "batch_size = 64\n",
    "device = torch.device(\"cuda\") if torch.cuda.is_available() else torch.device(\n",
    "    \"cpu\")"
   ]
  },
  {
   "cell_type": "code",
   "execution_count": 61,
   "id": "cae09d9b",
   "metadata": {},
   "outputs": [
    {
     "data": {
      "text/plain": [
       "<torch._C.Generator at 0x1533cbc10>"
      ]
     },
     "execution_count": 61,
     "metadata": {},
     "output_type": "execute_result"
    }
   ],
   "source": [
    "env_name = 'CartPole-v0'\n",
    "env = gym.make(env_name)\n",
    "random.seed(0)\n",
    "np.random.seed(0)\n",
    "torch.manual_seed(0)"
   ]
  },
  {
   "cell_type": "code",
   "execution_count": 62,
   "id": "77e8faed",
   "metadata": {},
   "outputs": [],
   "source": [
    "replay_buffer = ReplayBuffer(buffer_size)\n",
    "state_dim = env.observation_space.shape[0]\n",
    "action_dim = env.action_space.n\n",
    "agent = DQN(state_dim, hidden_dim, action_dim, lr, gamma, epsilon,\n",
    "            target_update, device)"
   ]
  },
  {
   "cell_type": "code",
   "execution_count": 63,
   "id": "95aaed77",
   "metadata": {},
   "outputs": [
    {
     "name": "stderr",
     "output_type": "stream",
     "text": [
      "Iteration 0: 100%|█| 50/50 [00:00<00:00, 1828.28it/s, episo\n"
     ]
    },
    {
     "name": "stdout",
     "output_type": "stream",
     "text": [
      "Current return list: 9.1\n",
      "Current return list: 9.4\n",
      "Current return list: 9.3\n",
      "Current return list: 9.3\n",
      "Current return list: 8.7\n"
     ]
    },
    {
     "name": "stderr",
     "output_type": "stream",
     "text": [
      "Iteration 1:  58%|▌| 29/50 [00:00<00:00, 234.07it/s, episod"
     ]
    },
    {
     "name": "stdout",
     "output_type": "stream",
     "text": [
      "Current return list: 9.8\n",
      "Current return list: 9.4\n",
      "Current return list: 9.8\n"
     ]
    },
    {
     "name": "stderr",
     "output_type": "stream",
     "text": [
      "Iteration 1: 100%|█| 50/50 [00:00<00:00, 212.24it/s, episod"
     ]
    },
    {
     "name": "stdout",
     "output_type": "stream",
     "text": [
      "Current return list: 9.4\n",
      "Current return list: 10.6\n"
     ]
    },
    {
     "name": "stderr",
     "output_type": "stream",
     "text": [
      "\n",
      "Iteration 2:  24%|▏| 12/50 [00:00<00:00, 111.20it/s, episod"
     ]
    },
    {
     "name": "stdout",
     "output_type": "stream",
     "text": [
      "Current return list: 14.2\n"
     ]
    },
    {
     "name": "stderr",
     "output_type": "stream",
     "text": [
      "Iteration 2:  48%|▍| 24/50 [00:00<00:00, 105.72it/s, episod"
     ]
    },
    {
     "name": "stdout",
     "output_type": "stream",
     "text": [
      "Current return list: 18.8\n"
     ]
    },
    {
     "name": "stderr",
     "output_type": "stream",
     "text": [
      "\r",
      "Iteration 2:  58%|▌| 29/50 [00:00<00:00, 105.72it/s, episod"
     ]
    },
    {
     "name": "stdout",
     "output_type": "stream",
     "text": [
      "Current return list: 29.6\n"
     ]
    },
    {
     "name": "stderr",
     "output_type": "stream",
     "text": [
      "Iteration 2:  86%|▊| 43/50 [00:00<00:00, 33.82it/s, episode"
     ]
    },
    {
     "name": "stdout",
     "output_type": "stream",
     "text": [
      "Current return list: 72.4\n"
     ]
    },
    {
     "name": "stderr",
     "output_type": "stream",
     "text": [
      "Iteration 2: 100%|█| 50/50 [00:01<00:00, 33.27it/s, episode\n"
     ]
    },
    {
     "name": "stdout",
     "output_type": "stream",
     "text": [
      "Current return list: 142.8\n"
     ]
    },
    {
     "name": "stderr",
     "output_type": "stream",
     "text": [
      "Iteration 3:  22%|▏| 11/50 [00:01<00:04,  8.44it/s, episode"
     ]
    },
    {
     "name": "stdout",
     "output_type": "stream",
     "text": [
      "Current return list: 202.1\n"
     ]
    },
    {
     "name": "stderr",
     "output_type": "stream",
     "text": [
      "Iteration 3:  40%|▍| 20/50 [00:02<00:03,  8.68it/s, episode"
     ]
    },
    {
     "name": "stdout",
     "output_type": "stream",
     "text": [
      "Current return list: 233.2\n"
     ]
    },
    {
     "name": "stderr",
     "output_type": "stream",
     "text": [
      "Iteration 3:  62%|▌| 31/50 [00:03<00:02,  8.22it/s, episode"
     ]
    },
    {
     "name": "stdout",
     "output_type": "stream",
     "text": [
      "Current return list: 255.2\n"
     ]
    },
    {
     "name": "stderr",
     "output_type": "stream",
     "text": [
      "Iteration 3:  82%|▊| 41/50 [00:04<00:00, 10.61it/s, episode"
     ]
    },
    {
     "name": "stdout",
     "output_type": "stream",
     "text": [
      "Current return list: 192.0\n"
     ]
    },
    {
     "name": "stderr",
     "output_type": "stream",
     "text": [
      "Iteration 3: 100%|█| 50/50 [00:05<00:00,  8.41it/s, episode\n"
     ]
    },
    {
     "name": "stdout",
     "output_type": "stream",
     "text": [
      "Current return list: 230.3\n"
     ]
    },
    {
     "name": "stderr",
     "output_type": "stream",
     "text": [
      "Iteration 4:  22%|▏| 11/50 [00:01<00:05,  6.57it/s, episode"
     ]
    },
    {
     "name": "stdout",
     "output_type": "stream",
     "text": [
      "Current return list: 257.1\n"
     ]
    },
    {
     "name": "stderr",
     "output_type": "stream",
     "text": [
      "Iteration 4:  42%|▍| 21/50 [00:03<00:05,  5.78it/s, episode"
     ]
    },
    {
     "name": "stdout",
     "output_type": "stream",
     "text": [
      "Current return list: 368.9\n"
     ]
    },
    {
     "name": "stderr",
     "output_type": "stream",
     "text": [
      "Iteration 4:  62%|▌| 31/50 [00:05<00:03,  5.15it/s, episode"
     ]
    },
    {
     "name": "stdout",
     "output_type": "stream",
     "text": [
      "Current return list: 335.9\n"
     ]
    },
    {
     "name": "stderr",
     "output_type": "stream",
     "text": [
      "Iteration 4:  84%|▊| 42/50 [00:06<00:00, 10.94it/s, episode"
     ]
    },
    {
     "name": "stdout",
     "output_type": "stream",
     "text": [
      "Current return list: 163.9\n"
     ]
    },
    {
     "name": "stderr",
     "output_type": "stream",
     "text": [
      "Iteration 4: 100%|█| 50/50 [00:07<00:00,  6.82it/s, episode\n"
     ]
    },
    {
     "name": "stdout",
     "output_type": "stream",
     "text": [
      "Current return list: 236.0\n"
     ]
    },
    {
     "name": "stderr",
     "output_type": "stream",
     "text": [
      "Iteration 5:  22%|▏| 11/50 [00:01<00:06,  5.81it/s, episode"
     ]
    },
    {
     "name": "stdout",
     "output_type": "stream",
     "text": [
      "Current return list: 310.7\n"
     ]
    },
    {
     "name": "stderr",
     "output_type": "stream",
     "text": [
      "Iteration 5:  42%|▍| 21/50 [00:03<00:04,  5.88it/s, episode"
     ]
    },
    {
     "name": "stdout",
     "output_type": "stream",
     "text": [
      "Current return list: 357.4\n"
     ]
    },
    {
     "name": "stderr",
     "output_type": "stream",
     "text": [
      "Iteration 5:  62%|▌| 31/50 [00:05<00:03,  5.39it/s, episode"
     ]
    },
    {
     "name": "stdout",
     "output_type": "stream",
     "text": [
      "Current return list: 393.3\n"
     ]
    },
    {
     "name": "stderr",
     "output_type": "stream",
     "text": [
      "Iteration 5:  80%|▊| 40/50 [00:07<00:02,  3.79it/s, episode"
     ]
    },
    {
     "name": "stdout",
     "output_type": "stream",
     "text": [
      "Current return list: 502.0\n"
     ]
    },
    {
     "name": "stderr",
     "output_type": "stream",
     "text": [
      "Iteration 5: 100%|█| 50/50 [15:12<00:00, 18.25s/it, episode\n"
     ]
    },
    {
     "name": "stdout",
     "output_type": "stream",
     "text": [
      "Current return list: 1249.3\n"
     ]
    },
    {
     "name": "stderr",
     "output_type": "stream",
     "text": [
      "Iteration 6:  24%|▏| 12/50 [00:02<00:03,  9.55it/s, episode"
     ]
    },
    {
     "name": "stdout",
     "output_type": "stream",
     "text": [
      "Current return list: 416.5\n"
     ]
    },
    {
     "name": "stderr",
     "output_type": "stream",
     "text": [
      "Iteration 6:  40%|▍| 20/50 [00:03<00:06,  4.91it/s, episode"
     ]
    },
    {
     "name": "stdout",
     "output_type": "stream",
     "text": [
      "Current return list: 392.5\n"
     ]
    },
    {
     "name": "stderr",
     "output_type": "stream",
     "text": [
      "Iteration 6:  62%|▌| 31/50 [00:06<00:03,  5.94it/s, episode"
     ]
    },
    {
     "name": "stdout",
     "output_type": "stream",
     "text": [
      "Current return list: 486.3\n"
     ]
    },
    {
     "name": "stderr",
     "output_type": "stream",
     "text": [
      "Iteration 6:  90%|▉| 45/50 [00:13<00:01,  3.29it/s, episode"
     ]
    },
    {
     "name": "stdout",
     "output_type": "stream",
     "text": [
      "Current return list: 1504.1\n"
     ]
    },
    {
     "name": "stderr",
     "output_type": "stream",
     "text": [
      "Iteration 6: 100%|█| 50/50 [00:13<00:00,  3.68it/s, episode\n"
     ]
    },
    {
     "name": "stdout",
     "output_type": "stream",
     "text": [
      "Current return list: 127.4\n"
     ]
    },
    {
     "name": "stderr",
     "output_type": "stream",
     "text": [
      "Iteration 7:  18%|▏| 9/50 [00:08<00:41,  1.02s/it, episode="
     ]
    },
    {
     "name": "stdout",
     "output_type": "stream",
     "text": [
      "Current return list: 1806.7\n"
     ]
    },
    {
     "name": "stderr",
     "output_type": "stream",
     "text": [
      "Iteration 7:  44%|▍| 22/50 [00:20<00:20,  1.39it/s, episode"
     ]
    },
    {
     "name": "stdout",
     "output_type": "stream",
     "text": [
      "Current return list: 2534.9\n"
     ]
    },
    {
     "name": "stderr",
     "output_type": "stream",
     "text": [
      "Iteration 7:  64%|▋| 32/50 [00:21<00:03,  5.78it/s, episode"
     ]
    },
    {
     "name": "stdout",
     "output_type": "stream",
     "text": [
      "Current return list: 145.3\n"
     ]
    },
    {
     "name": "stderr",
     "output_type": "stream",
     "text": [
      "Iteration 7:  80%|▊| 40/50 [00:22<00:01,  8.26it/s, episode"
     ]
    },
    {
     "name": "stdout",
     "output_type": "stream",
     "text": [
      "Current return list: 190.5\n"
     ]
    },
    {
     "name": "stderr",
     "output_type": "stream",
     "text": [
      "Iteration 7: 100%|█| 50/50 [00:23<00:00,  2.13it/s, episode\n"
     ]
    },
    {
     "name": "stdout",
     "output_type": "stream",
     "text": [
      "Current return list: 261.7\n"
     ]
    },
    {
     "name": "stderr",
     "output_type": "stream",
     "text": [
      "Iteration 8:  22%|▏| 11/50 [00:01<00:05,  6.60it/s, episode"
     ]
    },
    {
     "name": "stdout",
     "output_type": "stream",
     "text": [
      "Current return list: 282.6\n"
     ]
    },
    {
     "name": "stderr",
     "output_type": "stream",
     "text": [
      "Iteration 8:  40%|▍| 20/50 [00:06<00:11,  2.65it/s, episode"
     ]
    },
    {
     "name": "stdout",
     "output_type": "stream",
     "text": [
      "Current return list: 1182.1\n"
     ]
    },
    {
     "name": "stderr",
     "output_type": "stream",
     "text": [
      "Iteration 8:  60%|▌| 30/50 [00:12<00:14,  1.39it/s, episode"
     ]
    },
    {
     "name": "stdout",
     "output_type": "stream",
     "text": [
      "Current return list: 1098.8\n"
     ]
    },
    {
     "name": "stderr",
     "output_type": "stream",
     "text": [
      "Iteration 8:  82%|▊| 41/50 [00:16<00:02,  3.70it/s, episode"
     ]
    },
    {
     "name": "stdout",
     "output_type": "stream",
     "text": [
      "Current return list: 855.0\n"
     ]
    },
    {
     "name": "stderr",
     "output_type": "stream",
     "text": [
      "Iteration 8: 100%|█| 50/50 [00:26<00:00,  1.85it/s, episode\n"
     ]
    },
    {
     "name": "stdout",
     "output_type": "stream",
     "text": [
      "Current return list: 2296.7\n"
     ]
    },
    {
     "name": "stderr",
     "output_type": "stream",
     "text": [
      "Iteration 9:  20%|▏| 10/50 [00:05<00:43,  1.08s/it, episode"
     ]
    },
    {
     "name": "stdout",
     "output_type": "stream",
     "text": [
      "Current return list: 1151.3\n"
     ]
    },
    {
     "name": "stderr",
     "output_type": "stream",
     "text": [
      "Iteration 9:  40%|▍| 20/50 [00:15<00:41,  1.39s/it, episode"
     ]
    },
    {
     "name": "stdout",
     "output_type": "stream",
     "text": [
      "Current return list: 2241.2\n"
     ]
    },
    {
     "name": "stderr",
     "output_type": "stream",
     "text": [
      "Iteration 9:  64%|▋| 32/50 [00:24<00:06,  2.90it/s, episode"
     ]
    },
    {
     "name": "stdout",
     "output_type": "stream",
     "text": [
      "Current return list: 1890.0\n"
     ]
    },
    {
     "name": "stderr",
     "output_type": "stream",
     "text": [
      "Iteration 9:  80%|▊| 40/50 [00:27<00:04,  2.45it/s, episode"
     ]
    },
    {
     "name": "stdout",
     "output_type": "stream",
     "text": [
      "Current return list: 692.1\n"
     ]
    },
    {
     "name": "stderr",
     "output_type": "stream",
     "text": [
      "Iteration 9: 100%|█| 50/50 [00:30<00:00,  1.64it/s, episode"
     ]
    },
    {
     "name": "stdout",
     "output_type": "stream",
     "text": [
      "Current return list: 547.5\n"
     ]
    },
    {
     "name": "stderr",
     "output_type": "stream",
     "text": [
      "\n"
     ]
    }
   ],
   "source": [
    "return_list = []\n",
    "for i in range(10):\n",
    "    with tqdm(total=int(num_episodes / 10), desc='Iteration %d' % i) as pbar:\n",
    "        for i_episode in range(int(num_episodes / 10)):\n",
    "            episode_return = 0\n",
    "            state,_ = env.reset()\n",
    "            done = False\n",
    "            while not done:\n",
    "                action = agent.take_action(state)\n",
    "#                 next_state, reward, terminated, truncated, _\n",
    "                next_state, reward, done,truncated, _ = env.step(action)\n",
    "                replay_buffer.add(state, action, reward, next_state, done)\n",
    "                state = next_state\n",
    "                episode_return += reward\n",
    "                # 当buffer数据的数量超过一定值后,才进行Q网络训练\n",
    "                if replay_buffer.size() > minimal_size:\n",
    "                    b_s, b_a, b_r, b_ns, b_d = replay_buffer.sample(batch_size)\n",
    "                    transition_dict = {\n",
    "                        'states': b_s,\n",
    "                        'actions': b_a,\n",
    "                        'next_states': b_ns,\n",
    "                        'rewards': b_r,\n",
    "                        'dones': b_d\n",
    "                    }\n",
    "                    agent.update(transition_dict)\n",
    "            return_list.append(episode_return)\n",
    "            if (i_episode + 1) % 10 == 0:\n",
    "                print(\"Current return list:\", np.mean(return_list[-10:]))\n",
    "\n",
    "                pbar.set_postfix({\n",
    "                    'episode':'%d' % (num_episodes / 10 * i + i_episode + 1),\n",
    "                    'return':'%.3f' % np.mean(return_list[-10:])\n",
    "                })\n",
    "            pbar.update(1)"
   ]
  },
  {
   "cell_type": "code",
   "execution_count": null,
   "id": "c5479320",
   "metadata": {},
   "outputs": [],
   "source": []
  },
  {
   "cell_type": "code",
   "execution_count": null,
   "id": "421cb4d6",
   "metadata": {},
   "outputs": [],
   "source": []
  },
  {
   "cell_type": "code",
   "execution_count": null,
   "id": "44d5a20d",
   "metadata": {},
   "outputs": [],
   "source": []
  }
 ],
 "metadata": {
  "kernelspec": {
   "display_name": "mem0",
   "language": "python",
   "name": "mem0"
  },
  "language_info": {
   "codemirror_mode": {
    "name": "ipython",
    "version": 3
   },
   "file_extension": ".py",
   "mimetype": "text/x-python",
   "name": "python",
   "nbconvert_exporter": "python",
   "pygments_lexer": "ipython3",
   "version": "3.10.14"
  }
 },
 "nbformat": 4,
 "nbformat_minor": 5
}
