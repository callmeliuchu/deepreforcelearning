{
 "cells": [
  {
   "cell_type": "code",
   "execution_count": 1,
   "id": "e4602253-5167-453c-ad26-302e23be7c7a",
   "metadata": {},
   "outputs": [],
   "source": [
    "import torch"
   ]
  },
  {
   "cell_type": "code",
   "execution_count": 2,
   "id": "550c70cc-e916-4025-81fd-b2cdb3e9f83e",
   "metadata": {},
   "outputs": [],
   "source": [
    "import torch.nn as nn"
   ]
  },
  {
   "cell_type": "code",
   "execution_count": 3,
   "id": "8a32eb03-0b99-4c11-8f67-7e22a4bace7d",
   "metadata": {},
   "outputs": [],
   "source": [
    "import torch.nn.functional as F"
   ]
  },
  {
   "cell_type": "code",
   "execution_count": 4,
   "id": "61ec49a8-5819-477e-bd21-34b9a6dcf5f0",
   "metadata": {},
   "outputs": [],
   "source": [
    "import random"
   ]
  },
  {
   "cell_type": "code",
   "execution_count": 5,
   "id": "25c35ccb-e5ff-421c-bf38-96a8b5f844bb",
   "metadata": {},
   "outputs": [],
   "source": [
    "from collections import deque"
   ]
  },
  {
   "cell_type": "code",
   "execution_count": 6,
   "id": "2b92795a-61e9-49e3-bf34-b448149d7847",
   "metadata": {},
   "outputs": [],
   "source": [
    "from torch.distributions import Categorical"
   ]
  },
  {
   "cell_type": "code",
   "execution_count": 7,
   "id": "6bed98d8-4b0c-41f8-b2be-726e6bbcae5e",
   "metadata": {},
   "outputs": [],
   "source": [
    "import numpy as np"
   ]
  },
  {
   "cell_type": "code",
   "execution_count": 8,
   "id": "3194319d-fa7f-467a-83fc-0d0ee951d010",
   "metadata": {},
   "outputs": [],
   "source": [
    "import gym\n",
    "import os\n",
    "import copy\n",
    "import matplotlib.pyplot as plt\n",
    "import seaborn as sns"
   ]
  },
  {
   "cell_type": "code",
   "execution_count": 34,
   "id": "4ea5a14a-c311-4401-8668-64b820123232",
   "metadata": {},
   "outputs": [],
   "source": [
    "class ActorSoftmax(nn.Module):\n",
    "    def __init__(self,input_dim,output_dim,hidden_dim=256):\n",
    "        super(ActorSoftmax,self).__init__()\n",
    "        self.fc1 = nn.Linear(input_dim,hidden_dim)\n",
    "        self.fc2 = nn.Linear(hidden_dim,hidden_dim)\n",
    "        self.fc3 = nn.Linear(hidden_dim,output_dim)\n",
    "    def forward(self,x):\n",
    "        x = F.relu(self.fc1(x))\n",
    "        x = F.relu(self.fc2(x))\n",
    "        probs = F.softmax(self.fc3(x),dim=-1)\n",
    "        return probs"
   ]
  },
  {
   "cell_type": "code",
   "execution_count": 35,
   "id": "ef2e7388-73b0-4954-9fe3-789751834c09",
   "metadata": {},
   "outputs": [],
   "source": [
    "class Critic(nn.Module):\n",
    "    def __init__(self,input_dim,output_dim,hidden_dim=256):\n",
    "        super(ActorSoftmax,self).__init__()\n",
    "        self.fc1 = nn.Linear(input_dim,hidden_dim)\n",
    "        self.fc2 = nn.Linear(hidden_dim,hidden_dim)\n",
    "        self.fc3 = nn.Linear(hidden_dim,output_dim)\n",
    "    def forward(self,x):\n",
    "        x = F.relu(self.fc1(x))\n",
    "        x = F.relu(self.fc2(x))\n",
    "        values = self.fc3(x)\n",
    "        return values"
   ]
  },
  {
   "cell_type": "code",
   "execution_count": 36,
   "id": "7ecaa60c-da81-44c9-a62d-89517dc180f4",
   "metadata": {},
   "outputs": [],
   "source": [
    "class ReplayBufferQue:\n",
    "    def __init__(self,capacity: int) -> None:\n",
    "        self.capacity = capacity\n",
    "        self.buffer = deque(maxlen=self.capacity)\n",
    "    def push(self,transitions):\n",
    "        self.buffer.append(transitions)\n",
    "    def sample(self,batch_size: int,sequential: bool=False):\n",
    "        if sequential:\n",
    "            index = random.randint(0,len(self.buffer)-batch_size-1)\n",
    "            res = [self.buffer[i] for i in range(index,index+batch_size)]\n",
    "            return zip(*res)\n",
    "        else:\n",
    "            batch = random.sample(self.buffer,batch_size)\n",
    "            return zip(*batch)\n",
    "    def clear(self):\n",
    "        self.buffer.clear()\n",
    "    def __len__(self):\n",
    "        return len(self.buffer)"
   ]
  },
  {
   "cell_type": "code",
   "execution_count": 37,
   "id": "2b003008-b9d1-4c8e-af6b-6e7356c11282",
   "metadata": {},
   "outputs": [],
   "source": [
    "class PGReplay(ReplayBufferQue):\n",
    "    def __init__(self):\n",
    "        self.buffer = deque()\n",
    "    def sample(self):\n",
    "        batch = list(self.buffer)\n",
    "        return zip(*batch)"
   ]
  },
  {
   "cell_type": "code",
   "execution_count": 38,
   "id": "11bc1855-9e46-466f-bb10-33022eb71570",
   "metadata": {},
   "outputs": [],
   "source": [
    "class Agent:\n",
    "    def __init__(self,cfg) -> None:\n",
    "        self.gamma = cfg.gamma\n",
    "        self.device = torch.device\n",
    "        self.actor = ActorSoftmax(cfg.n_states,cfg.n_actions,hidden_dim=cfg.actor_hidden_dim).to(self.device)\n",
    "        self.critic = Critic(cfg.n_states,1,hidden_dim=cfg.critic_hidden_dim).to(self.device)\n",
    "        self.actor_optimizer = torch.optim.Adam(self.actor.parameters(),lr=cfg.actor_lr)\n",
    "        self.critic_optimizer = torch.optim.Adam(self.critic.parameters(),lr=cfg.critic_lr)\n",
    "        self.memory = PGReplay()\n",
    "        self.k_epochs = cfg.k_epochs\n",
    "        self.eps_clip = cfg.eps_clip\n",
    "        self.entropy_coef = cfg.entropy_coef\n",
    "        self.sample_count = 0\n",
    "        self.update_freq = cfg.update_freq\n",
    "\n",
    "    def sample_action(self,state):\n",
    "        self.sample_count += 1\n",
    "        state = torch.tensor(state,device=self.device,dtype=torch.float32).unsqueeze(0)\n",
    "        probs = self.actor(state)\n",
    "        dist = Categorical(probs)\n",
    "        action = dist.sample()\n",
    "        self.log_probs = dist.log_prob(action).detach()\n",
    "        return action.detach().cpu().numpy().item()\n",
    "\n",
    "    @torch.no_grad()\n",
    "    def predict_action(self, state):\n",
    "        state = torch.tensor(state, device=self.device, dtype=torch.float32).unsqueeze(dim=0)\n",
    "        probs = self.actor(state)\n",
    "        dist = Categorical(probs)\n",
    "        action = dist.sample()\n",
    "        return action.detach().cpu().numpy().item()\n",
    "\n",
    "    def update(self):\n",
    "        if self.sample_count % self.update_freq != 0:\n",
    "            return\n",
    "        old_states,old_actions,old_log_probs,old_rewards,old_dones = self.memory.sample()\n",
    "        old_states = torch.tensor(np.array(old_states),device=self.device,dtype=torch.float32)\n",
    "        old_actions = torch.tensor(np.array(old_actions),device=self.device,dtype=torch.float32)\n",
    "        old_log_probs = torch.tensor(np.array(old_log_probs),device=self.device,dtype=torch.float32)\n",
    "        returns = []\n",
    "        discounted_sum = 0\n",
    "        for reward,done in zip(reversed(old_rewards),reversed(old_dones)):\n",
    "            if done:\n",
    "                discounted_sum = 0\n",
    "            discounted_sum = reward + (self.gamma * discounted_sum)\n",
    "            returns.insert(0,discounted_sum)\n",
    "        returns = torch.tensor(returns, device=self.device, dtype=torch.float32)\n",
    "        returns = (returns - returns.mean()) / (returns.std() + 1e-5)\n",
    "        for _ in range(self.k_epochs):\n",
    "            values = self.critic(old_states)\n",
    "            advantage = returns - values.detach()\n",
    "            probs = self.actor(old_states)\n",
    "            dist = Categorical(probs)\n",
    "            new_probs = dist.log_prob(old_actions)\n",
    "            ratio = torch.exp(new_probs-old_log_probs)\n",
    "            surr1 = ratio * advantage\n",
    "            surr2 = torch.clamp(ratio,1-self.eps_clip,1+self.eps_clip) * advantage\n",
    "            actor_loss = -torch.min(surr1,surr2).mean() + self.entropy_coef * dist.entropy().mean()\n",
    "            critic_loss = (returns - values).pow(2).mean()\n",
    "            self.actor_optimizer.zero_grad()\n",
    "            self.critic_optimizer.zero_grad()\n",
    "            actor_loss.backward()\n",
    "            critic_loss.backward()\n",
    "            self.actor_optimizer.step()\n",
    "            self.critic_optimizer.step()\n",
    "        self.memory.clear()"
   ]
  },
  {
   "cell_type": "code",
   "execution_count": 39,
   "id": "f70902e3-9b32-4994-8a2e-86010d3f59c9",
   "metadata": {},
   "outputs": [],
   "source": [
    "def train(cfg,env,agent):\n",
    "    print('begin to train!')\n",
    "    rewards = []\n",
    "    steps = []\n",
    "    best_ep_reward = 0\n",
    "    output_agent = None\n",
    "    for i_ep in range(cfg.train_eps):\n",
    "        ep_reward = 0\n",
    "        ep_step = 0\n",
    "        state,_ = env.reset()\n",
    "        for _ in range(cfg.max_steps):\n",
    "            ep_steps += 1\n",
    "            action = agent.sample_action(state)\n",
    "            next_state,reward,terminated,truncated,_ = env.step(action)\n",
    "            env.render()\n",
    "            agent.memory.push((state,action,agent.log_probs,reward,terminated))\n",
    "            state = next_state\n",
    "            agent.update()\n",
    "            ep_reward += reward\n",
    "            if terminated:\n",
    "                break\n",
    "        ### eval\n",
    "        if (i_ep + 1) % cfg.eval_per_episode == 0:\n",
    "            sum_eval_reward = 0\n",
    "            state,_ = env.reset()\n",
    "            for _ in range(cfg.max_steps):\n",
    "                action = action.predict_action(state)\n",
    "                next_state,reward,terminated,truncated,_ = env.step(action)\n",
    "                state = next_state\n",
    "                eval_per_episode += reward\n",
    "                if terminated:\n",
    "                    break\n",
    "                sum_eval_reward += eval_per_episode\n",
    "            mean_eval_reward = sum_eval_reward / cfg.eval_eps\n",
    "            if mean_eval_reward >= best_ep_reward:\n",
    "                best_ep_reward = mean_eval_reward\n",
    "        env.close()\n",
    "        return output_agent,{'rewards':rewards}"
   ]
  },
  {
   "cell_type": "code",
   "execution_count": null,
   "id": "7d1c9928-543c-400e-86b6-b81da7304318",
   "metadata": {},
   "outputs": [],
   "source": []
  },
  {
   "cell_type": "code",
   "execution_count": null,
   "id": "75db0ee1-3277-4a23-bb08-6ded74f70ebd",
   "metadata": {},
   "outputs": [],
   "source": []
  },
  {
   "cell_type": "code",
   "execution_count": null,
   "id": "fb2d9e9b-d5ff-451a-8d46-5525e872bb1d",
   "metadata": {},
   "outputs": [],
   "source": []
  }
 ],
 "metadata": {
  "kernelspec": {
   "display_name": "mem0",
   "language": "python",
   "name": "mem0"
  },
  "language_info": {
   "codemirror_mode": {
    "name": "ipython",
    "version": 3
   },
   "file_extension": ".py",
   "mimetype": "text/x-python",
   "name": "python",
   "nbconvert_exporter": "python",
   "pygments_lexer": "ipython3",
   "version": "3.10.14"
  }
 },
 "nbformat": 4,
 "nbformat_minor": 5
}
