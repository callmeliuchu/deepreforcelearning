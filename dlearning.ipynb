{
 "cells": [
  {
   "cell_type": "code",
   "execution_count": 1,
   "id": "cf66ee59",
   "metadata": {},
   "outputs": [],
   "source": [
    "import matplotlib.pyplot as plt\n",
    "import numpy as np\n",
    "from tqdm import tqdm  # tqdm是显示循环进度条的库"
   ]
  },
  {
   "cell_type": "code",
   "execution_count": 2,
   "id": "42307602",
   "metadata": {},
   "outputs": [],
   "source": [
    "import matplotlib.pyplot as plt\n",
    "import numpy as np\n",
    "from tqdm import tqdm  # tqdm是显示循环进度条的库\n",
    "\n",
    "\n",
    "class CliffWalkingEnv:\n",
    "    def __init__(self, ncol, nrow):\n",
    "        self.nrow = nrow\n",
    "        self.ncol = ncol\n",
    "        self.x = 0  # 记录当前智能体位置的横坐标\n",
    "        self.y = self.nrow - 1  # 记录当前智能体位置的纵坐标\n",
    "\n",
    "    def step(self, action):  # 外部调用这个函数来改变当前位置\n",
    "        # 4种动作, change[0]:上, change[1]:下, change[2]:左, change[3]:右。坐标系原点(0,0)\n",
    "        # 定义在左上角\n",
    "        change = [[0, -1], [0, 1], [-1, 0], [1, 0]]\n",
    "        self.x = min(self.ncol - 1, max(0, self.x + change[action][0]))\n",
    "        self.y = min(self.nrow - 1, max(0, self.y + change[action][1]))\n",
    "        next_state = self.y * self.ncol + self.x\n",
    "        reward = -1\n",
    "        done = False\n",
    "        if self.y == self.nrow - 1 and self.x > 0:  # 下一个位置在悬崖或者目标\n",
    "            done = True\n",
    "            if self.x != self.ncol - 1:\n",
    "                reward = -100\n",
    "        return next_state, reward, done\n",
    "\n",
    "    def reset(self):  # 回归初始状态,坐标轴原点在左上角\n",
    "        self.x = 0\n",
    "        self.y = self.nrow - 1\n",
    "        return self.y * self.ncol + self.x"
   ]
  },
  {
   "cell_type": "code",
   "execution_count": 4,
   "id": "9aade2ee",
   "metadata": {},
   "outputs": [],
   "source": [
    "ncol = 12\n",
    "nrow = 4\n",
    "env = CliffWalkingEnv(ncol, nrow)\n",
    "np.random.seed(0)\n",
    "epsilon = 0.1\n",
    "alpha = 0.1\n",
    "gamma = 0.9\n",
    "num_episodes = 500  # 智能体在环境中运行的序列的数量"
   ]
  },
  {
   "cell_type": "code",
   "execution_count": 15,
   "id": "b79093a7",
   "metadata": {},
   "outputs": [],
   "source": [
    "def print_agent(agent, env, action_meaning, disaster=[], end=[]):\n",
    "    for i in range(env.nrow):\n",
    "        for j in range(env.ncol):\n",
    "            if (i * env.ncol + j) in disaster:\n",
    "                print('****', end=' ')\n",
    "            elif (i * env.ncol + j) in end:\n",
    "                print('EEEE', end=' ')\n",
    "            else:\n",
    "                a = agent.best_action(i * env.ncol + j)\n",
    "                pi_str = ''\n",
    "                for k in range(len(action_meaning)):\n",
    "                    pi_str += action_meaning[k] if a[k] > 0 else 'o'\n",
    "                print(pi_str, end=' ')\n",
    "        print()"
   ]
  },
  {
   "cell_type": "code",
   "execution_count": 18,
   "id": "435d7775",
   "metadata": {},
   "outputs": [],
   "source": [
    "class QLearning:\n",
    "    \n",
    "    def __init__(self,ncol,nrow,epsilon,alpha,gamma,n_action=4):\n",
    "        print(nrow*ncol,n_action)\n",
    "        self.Q_table = np.zeros([nrow*ncol,n_action])\n",
    "        self.n_action = n_action\n",
    "        self.alpha = alpha\n",
    "        self.gamma = gamma\n",
    "        self.epsilon = epsilon\n",
    "    \n",
    "    def take_action(self,state):\n",
    "        if np.random.random() < self.epsilon:\n",
    "            action = np.random.randint(self.n_action)\n",
    "        else:\n",
    "            action = np.argmax(self.Q_table[state])\n",
    "        return action\n",
    "    \n",
    "    \n",
    "    def best_action(self,state):\n",
    "        Q_max = np.max(self.Q_table[state])\n",
    "        a = [0 for _ in range(self.n_action)]\n",
    "        for i in range(self.n_action):\n",
    "            if self.Q_table[state,i] == Q_max:\n",
    "                a[i] = 1\n",
    "        return a\n",
    "    \n",
    "    def update(self,s0,a0,r,s1):\n",
    "        td_error = r + self.gamma * self.Q_table[s1].max() - self.Q_table[s0,a0]\n",
    "        self.Q_table[s0,a0] += self.alpha * td_error"
   ]
  },
  {
   "cell_type": "code",
   "execution_count": 19,
   "id": "1224fba5",
   "metadata": {},
   "outputs": [
    {
     "name": "stdout",
     "output_type": "stream",
     "text": [
      "48 4\n"
     ]
    }
   ],
   "source": [
    "np.random.seed(0)\n",
    "epsilon = 0.1\n",
    "alpha = 0.1\n",
    "gamma = 0.9\n",
    "agent = QLearning(ncol, nrow, epsilon, alpha, gamma)\n",
    "num_episodes = 500  # 智能体在环境中运行的序列的数量"
   ]
  },
  {
   "cell_type": "code",
   "execution_count": 20,
   "id": "ae857cca",
   "metadata": {},
   "outputs": [],
   "source": [
    "return_list = []"
   ]
  },
  {
   "cell_type": "code",
   "execution_count": 22,
   "id": "5923d680",
   "metadata": {},
   "outputs": [
    {
     "name": "stderr",
     "output_type": "stream",
     "text": [
      "Iteration 0\n"
     ]
    },
    {
     "name": "stdout",
     "output_type": "stream",
     "text": [
      "{'episode': '10', 'return': '-33.800'}\n",
      "{'episode': '20', 'return': '-23.200'}\n",
      "{'episode': '30', 'return': '-59.900'}\n",
      "{'episode': '40', 'return': '-24.100'}\n",
      "{'episode': '50', 'return': '-52.400'}\n"
     ]
    },
    {
     "name": "stderr",
     "output_type": "stream",
     "text": [
      "Iteration 1\n"
     ]
    },
    {
     "name": "stdout",
     "output_type": "stream",
     "text": [
      "{'episode': '60', 'return': '-52.300'}\n",
      "{'episode': '70', 'return': '-42.400'}\n",
      "{'episode': '80', 'return': '-50.300'}\n",
      "{'episode': '90', 'return': '-34.100'}\n",
      "{'episode': '100', 'return': '-50.800'}\n"
     ]
    },
    {
     "name": "stderr",
     "output_type": "stream",
     "text": [
      "Iteration 2\n"
     ]
    },
    {
     "name": "stdout",
     "output_type": "stream",
     "text": [
      "{'episode': '110', 'return': '-23.300'}\n",
      "{'episode': '120', 'return': '-54.000'}\n",
      "{'episode': '130', 'return': '-32.600'}\n",
      "{'episode': '140', 'return': '-35.100'}\n",
      "{'episode': '150', 'return': '-44.100'}\n"
     ]
    },
    {
     "name": "stderr",
     "output_type": "stream",
     "text": [
      "Iteration 3\n"
     ]
    },
    {
     "name": "stdout",
     "output_type": "stream",
     "text": [
      "{'episode': '160', 'return': '-34.000'}\n",
      "{'episode': '170', 'return': '-50.700'}\n",
      "{'episode': '180', 'return': '-24.800'}\n",
      "{'episode': '190', 'return': '-50.400'}\n",
      "{'episode': '200', 'return': '-23.200'}\n"
     ]
    },
    {
     "name": "stderr",
     "output_type": "stream",
     "text": [
      "Iteration 4\n"
     ]
    },
    {
     "name": "stdout",
     "output_type": "stream",
     "text": [
      "{'episode': '210', 'return': '-33.900'}\n",
      "{'episode': '220', 'return': '-62.800'}\n",
      "{'episode': '230', 'return': '-41.700'}\n",
      "{'episode': '240', 'return': '-15.600'}\n",
      "{'episode': '250', 'return': '-23.400'}\n"
     ]
    },
    {
     "name": "stderr",
     "output_type": "stream",
     "text": [
      "Iteration 5\n"
     ]
    },
    {
     "name": "stdout",
     "output_type": "stream",
     "text": [
      "{'episode': '260', 'return': '-62.100'}\n",
      "{'episode': '270', 'return': '-23.200'}\n",
      "{'episode': '280', 'return': '-23.300'}\n",
      "{'episode': '290', 'return': '-34.500'}\n",
      "{'episode': '300', 'return': '-32.500'}\n"
     ]
    },
    {
     "name": "stderr",
     "output_type": "stream",
     "text": [
      "Iteration 6\n"
     ]
    },
    {
     "name": "stdout",
     "output_type": "stream",
     "text": [
      "{'episode': '310', 'return': '-34.300'}\n",
      "{'episode': '320', 'return': '-52.400'}\n",
      "{'episode': '330', 'return': '-23.900'}\n",
      "{'episode': '340', 'return': '-41.700'}\n",
      "{'episode': '350', 'return': '-23.300'}\n"
     ]
    },
    {
     "name": "stderr",
     "output_type": "stream",
     "text": [
      "Iteration 7\n"
     ]
    },
    {
     "name": "stdout",
     "output_type": "stream",
     "text": [
      "{'episode': '360', 'return': '-42.000'}\n",
      "{'episode': '370', 'return': '-51.200'}\n",
      "{'episode': '380', 'return': '-52.000'}\n",
      "{'episode': '390', 'return': '-31.900'}\n",
      "{'episode': '400', 'return': '-14.200'}\n"
     ]
    },
    {
     "name": "stderr",
     "output_type": "stream",
     "text": [
      "Iteration 8\n"
     ]
    },
    {
     "name": "stdout",
     "output_type": "stream",
     "text": [
      "{'episode': '410', 'return': '-33.300'}\n",
      "{'episode': '420', 'return': '-15.500'}\n",
      "{'episode': '430', 'return': '-49.600'}\n",
      "{'episode': '440', 'return': '-41.600'}\n",
      "{'episode': '450', 'return': '-31.400'}\n"
     ]
    },
    {
     "name": "stderr",
     "output_type": "stream",
     "text": [
      "Iteration 9"
     ]
    },
    {
     "name": "stdout",
     "output_type": "stream",
     "text": [
      "{'episode': '460', 'return': '-40.800'}\n",
      "{'episode': '470', 'return': '-43.200'}\n",
      "{'episode': '480', 'return': '-50.600'}\n",
      "{'episode': '490', 'return': '-13.500'}\n",
      "{'episode': '500', 'return': '-32.400'}\n"
     ]
    },
    {
     "name": "stderr",
     "output_type": "stream",
     "text": [
      "\n"
     ]
    }
   ],
   "source": [
    "for i in range(10):\n",
    "    \n",
    "    with tqdm(total=int(num_episodes/10),desc='Iteration %d' % i) as pbar:\n",
    "        for i_episode in range(int(num_episodes/10)):\n",
    "            episode_return = 0\n",
    "            state = env.reset()\n",
    "            done = False\n",
    "            while not done:\n",
    "                action = agent.take_action(state)\n",
    "                next_state,reward,done = env.step(action)\n",
    "                episode_return += reward\n",
    "                agent.update(state,action,reward,next_state)\n",
    "                state = next_state\n",
    "            return_list.append(episode_return)\n",
    "            if (i_episode + 1) % 10 == 0:\n",
    "                ans =           {\n",
    "                    'episode':\n",
    "                    '%d' % (num_episodes / 10 * i + i_episode + 1),\n",
    "                    'return':\n",
    "                    '%.3f' % np.mean(return_list[-10:])\n",
    "                    }\n",
    "                print(ans)\n",
    "            pbar.update(1)"
   ]
  },
  {
   "cell_type": "code",
   "execution_count": 23,
   "id": "c3084997",
   "metadata": {},
   "outputs": [
    {
     "data": {
      "image/png": "[encoded data removed]",
      "text/plain": [
       "<Figure size 640x480 with 1 Axes>"
      ]
     },
     "metadata": {},
     "output_type": "display_data"
    },
    {
     "name": "stdout",
     "output_type": "stream",
     "text": [
      "Q-learning算法最终收敛得到的策略为：\n",
      "ovoo ^ooo ^ooo ooo> ooo> ooo> ovoo ooo> ooo> ooo> ooo> ovoo \n",
      "ooo> ooo> ovoo ovoo ooo> ovoo ooo> ooo> ovoo ooo> ooo> ovoo \n",
      "ooo> ooo> ooo> ooo> ooo> ooo> ooo> ooo> ooo> ooo> ooo> ovoo \n",
      "^ooo **** **** **** **** **** **** **** **** **** **** EEEE \n"
     ]
    }
   ],
   "source": [
    "episodes_list = list(range(len(return_list)))\n",
    "plt.plot(episodes_list, return_list)\n",
    "plt.xlabel('Episodes')\n",
    "plt.ylabel('Returns')\n",
    "plt.title('Q-learning on {}'.format('Cliff Walking'))\n",
    "plt.show()\n",
    "\n",
    "action_meaning = ['^', 'v', '<', '>']\n",
    "print('Q-learning算法最终收敛得到的策略为：')\n",
    "print_agent(agent, env, action_meaning, list(range(37, 47)), [47])"
   ]
  },
  {
   "cell_type": "code",
   "execution_count": null,
   "id": "c137588f",
   "metadata": {},
   "outputs": [],
   "source": []
  },
  {
   "cell_type": "code",
   "execution_count": null,
   "id": "f3c95bfd",
   "metadata": {},
   "outputs": [],
   "source": []
  },
  {
   "cell_type": "code",
   "execution_count": 6,
   "id": "b9c11a1e",
   "metadata": {},
   "outputs": [],
   "source": [
    "import numpy as np\n",
    "print(11)\n",
    "\n",
    "class CliffWalking2x3Env:\n",
    "    def __init__(self):\n",
    "        self.shape = (2, 3)  # 2行3列\n",
    "        self.start_state = 3  # 起点在第二行第一列（状态3）\n",
    "        self.cliff_state = 1  # 悬崖在第一行第二列（状态1）\n",
    "        self.goal_state = 5  # 终点在第二行第三列（状态5）\n",
    "        self.current_state = self.start_state\n",
    "        \n",
    "        # 动作空间：0=上，1=右，2=下，3=左\n",
    "        self.action_space = 4\n",
    "        self.observation_space = 6  # 状态空间大小\n",
    "        \n",
    "    def reset(self):\n",
    "        \"\"\"重置环境到初始状态\"\"\"\n",
    "        self.current_state = self.start_state\n",
    "        return self.current_state\n",
    "    \n",
    "    def state_to_pos(self, state):\n",
    "        \"\"\"将状态编号转换为坐标\"\"\"\n",
    "        row = state // 3\n",
    "        col = state % 3\n",
    "        return (row, col)\n",
    "    \n",
    "    def pos_to_state(self, row, col):\n",
    "        \"\"\"将坐标转换为状态编号\"\"\"\n",
    "        return row * 3 + col\n",
    "    \n",
    "    def step(self, action):\n",
    "        \"\"\"执行动作并返回新状态、奖励、是否终止\"\"\"\n",
    "        row, col = self.state_to_pos(self.current_state)\n",
    "        new_row, new_col = row, col\n",
    "        \n",
    "        # 计算新坐标\n",
    "        if action == 0:    # 上\n",
    "            new_row = max(row - 1, 0)\n",
    "        elif action == 1:  # 右\n",
    "            new_col = min(col + 1, 2)\n",
    "        elif action == 2:  # 下\n",
    "            new_row = min(row + 1, 1)\n",
    "        elif action == 3:  # 左\n",
    "            new_col = max(col - 1, 0)\n",
    "        \n",
    "        # 检查是否越界（此逻辑已包含在max/min中，可省略）\n",
    "        new_state = self.pos_to_state(new_row, new_col)\n",
    "        reward = -1  # 默认每步-1奖励\n",
    "        done = False\n",
    "        \n",
    "        # 判断是否掉下悬崖或到达终点\n",
    "        if new_state == self.cliff_state:\n",
    "            reward = -100\n",
    "            self.current_state = self.start_state  # 回到起点\n",
    "        elif new_state == self.goal_state:\n",
    "            reward = 10\n",
    "            done = True\n",
    "            self.current_state = new_state\n",
    "        else:\n",
    "            self.current_state = new_state\n",
    "        \n",
    "        return self.current_state, reward, done,done, {}\n",
    "    \n",
    "    def render(self):\n",
    "        \"\"\"可视化当前状态\"\"\"\n",
    "        grid = [\n",
    "            ['S', 'C', 'S'],\n",
    "            ['S', 'S', 'G']\n",
    "        ]\n",
    "        row, col = self.state_to_pos(self.current_state)\n",
    "        grid[row][col] = 'A'  # 用A表示智能体位置\n",
    "        print(f\"+---+---+---+\")\n",
    "        print(f\"|{grid[0][0]}|{grid[0][1]}|{grid[0][2]}|\")\n",
    "        print(f\"+---+---+---+\")\n",
    "        print(f\"|{grid[1][0]}|{grid[1][1]}|{grid[1][2]}|\")\n",
    "        print(f\"+---+---+---+\")\n",
    "        print()\n",
    "\n",
    "\n",
    "env = CliffWalking2x3Env()\n",
    "state = env.reset()\n",
    "done = False\n",
    "\n",
    "print(\"初始状态：\")\n",
    "env.render()\n",
    "\n",
    "# 示例动作序列：右→右→上→右→下→右\n",
    "actions = [1, 1, 0, 1, 2, 1]\n",
    "\n",
    "for action in actions:\n",
    "    next_state, reward, done, _,_ = env.step(action)\n",
    "    print(f\"执行动作 {action} 后:\")\n",
    "    env.render()\n",
    "    print(f\"奖励: {reward}, 终止: {done}\\n\")\n",
    "    if done:\n",
    "        break"
   ]
  },
  {
   "cell_type": "code",
   "execution_count": null,
   "id": "86c28a62",
   "metadata": {},
   "outputs": [],
   "source": []
  }
 ],
 "metadata": {
  "kernelspec": {
   "display_name": "mem0",
   "language": "python",
   "name": "mem0"
  },
  "language_info": {
   "codemirror_mode": {
    "name": "ipython",
    "version": 3
   },
   "file_extension": ".py",
   "mimetype": "text/x-python",
   "name": "python",
   "nbconvert_exporter": "python",
   "pygments_lexer": "ipython3",
   "version": "3.10.14"
  }
 },
 "nbformat": 4,
 "nbformat_minor": 5
}
