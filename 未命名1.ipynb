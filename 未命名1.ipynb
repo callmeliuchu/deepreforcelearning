{
 "cells": [
  {
   "cell_type": "code",
   "execution_count": 21,
   "id": "b493ef7a",
   "metadata": {},
   "outputs": [],
   "source": [
    "def permute(arr):\n",
    "    if not arr:\n",
    "        return [[]]\n",
    "    res = []\n",
    "    for i in range(len(arr)):\n",
    "        a = arr[i]\n",
    "        left = arr[:i] + arr[i+1:]\n",
    "        for r in permute(left):\n",
    "            res.append([a] + r)\n",
    "    return res"
   ]
  },
  {
   "cell_type": "code",
   "execution_count": null,
   "id": "143d3c2f",
   "metadata": {},
   "outputs": [],
   "source": []
  },
  {
   "cell_type": "markdown",
   "id": "7dc5fcee",
   "metadata": {},
   "source": []
  }
 ],
 "metadata": {
  "kernelspec": {
   "display_name": "mem0",
   "language": "python",
   "name": "mem0"
  },
  "language_info": {
   "codemirror_mode": {
    "name": "ipython",
    "version": 3
   },
   "file_extension": ".py",
   "mimetype": "text/x-python",
   "name": "python",
   "nbconvert_exporter": "python",
   "pygments_lexer": "ipython3",
   "version": "3.10.14"
  }
 },
 "nbformat": 4,
 "nbformat_minor": 5
}
