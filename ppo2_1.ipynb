{
 "cells": [
  {
   "cell_type": "code",
   "execution_count": 1,
   "id": "aa6c01ce-5588-4dbb-912f-333699bba654",
   "metadata": {},
   "outputs": [],
   "source": [
    "import torch"
   ]
  },
  {
   "cell_type": "code",
   "execution_count": 2,
   "id": "f964010f-567f-4f1f-8f5c-02ceb1c24f01",
   "metadata": {},
   "outputs": [],
   "source": [
    "import torch.nn as nn"
   ]
  },
  {
   "cell_type": "code",
   "execution_count": 3,
   "id": "549d3bad-347f-498b-8641-8153f4367eb7",
   "metadata": {},
   "outputs": [],
   "source": [
    "import torch.nn.functional as F"
   ]
  },
  {
   "cell_type": "code",
   "execution_count": 4,
   "id": "34788490-f52b-4f5c-b9ea-0febaad6abb4",
   "metadata": {},
   "outputs": [],
   "source": [
    "import random"
   ]
  },
  {
   "cell_type": "code",
   "execution_count": 5,
   "id": "40216427-7066-48e1-b9ae-f3775e0292d2",
   "metadata": {},
   "outputs": [],
   "source": [
    "from collections import deque"
   ]
  },
  {
   "cell_type": "code",
   "execution_count": 6,
   "id": "b4f66e5c-6e9d-4aca-87fb-ff53074b55a3",
   "metadata": {},
   "outputs": [],
   "source": [
    "from torch.distributions import Categorical"
   ]
  },
  {
   "cell_type": "code",
   "execution_count": 7,
   "id": "96941771-554c-4dd9-a06c-155712ca1967",
   "metadata": {},
   "outputs": [],
   "source": [
    "import numpy as np"
   ]
  },
  {
   "cell_type": "code",
   "execution_count": 8,
   "id": "5d8f99df-0be2-4ad7-b33a-0e7c96356df0",
   "metadata": {},
   "outputs": [],
   "source": [
    "import gym"
   ]
  },
  {
   "cell_type": "code",
   "execution_count": 9,
   "id": "ba22d10c-8d0d-49be-87c3-25bdab2e2bb9",
   "metadata": {},
   "outputs": [],
   "source": [
    "import os"
   ]
  },
  {
   "cell_type": "code",
   "execution_count": 10,
   "id": "5f9133a5-3f23-4bb3-87be-41be71d9fb36",
   "metadata": {},
   "outputs": [],
   "source": [
    "import copy"
   ]
  },
  {
   "cell_type": "code",
   "execution_count": 11,
   "id": "66d7844f-546b-4667-9ae3-b6fd2587b31c",
   "metadata": {},
   "outputs": [],
   "source": [
    "import matplotlib.pyplot as plt"
   ]
  },
  {
   "cell_type": "code",
   "execution_count": 12,
   "id": "b4372323-bf67-4899-b2d2-80e793739fed",
   "metadata": {},
   "outputs": [],
   "source": [
    "import seaborn as sns"
   ]
  },
  {
   "cell_type": "code",
   "execution_count": 13,
   "id": "43f15cdd-e74e-45d6-ade5-f487fca8729e",
   "metadata": {},
   "outputs": [],
   "source": [
    "np.bool8 = np.bool_"
   ]
  },
  {
   "cell_type": "code",
   "execution_count": 14,
   "id": "03505079-b185-469a-b6ad-164693a7ead4",
   "metadata": {},
   "outputs": [],
   "source": [
    "class ActorSoftmax(nn.Module):\n",
    "\n",
    "    def __init__(self,inout_dim,output_dim,hidden_dim=256):\n",
    "        super(ActorSoftmax,self).__init__()\n",
    "        self.fc1 = nn.Linear(input_dim,hidden_dim)\n",
    "        self.fc2 = nn.Linear(hidden_dim,hidden_dim)\n",
    "        self.fc3 = nn.Linear(hidden_dim,output_dim)\n",
    "\n",
    "    def forward(self,x):\n",
    "        x = F.relu(self.fc1(x))\n",
    "        x = F.relu(self.fc2(x))\n",
    "        probs = F.softmax(self.fc3(x),dim=1)\n",
    "        return probs"
   ]
  },
  {
   "cell_type": "code",
   "execution_count": 15,
   "id": "bc95a1d2-13b7-45fe-9f99-84273a16796b",
   "metadata": {},
   "outputs": [],
   "source": [
    "class Critic(nn.Module):\n",
    "\n",
    "    def __init__(self,input_dim,output_dim,hidden_dim=256):\n",
    "        super(Critic,self).__init__()\n",
    "        assert output_dim == 1\n",
    "        self.fc1 = nn.Linear(input_dim,hidden_dim)\n",
    "        self.fc2 = nn.Linear(hidden_dim,hidden_dim)\n",
    "        self.fc3 = nn.Linear(hidden_dim,output_dim)\n",
    "\n",
    "    def forward(self,x):\n",
    "        x = F.relu(self.fc1(x))\n",
    "        x = F.relu(self.fc2(x))\n",
    "        value = self.fc3(x)\n",
    "        return value"
   ]
  },
  {
   "cell_type": "code",
   "execution_count": 16,
   "id": "137e7f2e-f155-4869-b4c2-7fcc4096a039",
   "metadata": {},
   "outputs": [],
   "source": [
    "class ReplayBufferQue:\n",
    "\n",
    "    def __init__(self,capacity: int) -> None:\n",
    "        self.capacity = capacity\n",
    "        self.buffer = deque(maxlen=self.capacity)\n",
    "\n",
    "    def push(self,transitions):\n",
    "        self.buffer.append(transitions)\n",
    "\n",
    "    def sample(self,batch_size: int,sequential: bool = False):\n",
    "        if batch_size > len(self.buffer):\n",
    "            batch_size = len(self.buffer)\n",
    "\n",
    "        if sequential:\n",
    "            rand = random.randint(0,len(self.buffer)-batch_size)\n",
    "            batch = [self.buffer[i] for i in range(rand,rand+batch_size)]\n",
    "            return zip(*batch)\n",
    "        else:\n",
    "            batch = random.sample(self.buffer,batch_size)\n",
    "            return zip(*batch)\n",
    "\n",
    "    def clear(self):\n",
    "        self.buffer.clear()\n",
    "\n",
    "    def __len__(self):\n",
    "        return len(self.buffer)"
   ]
  },
  {
   "cell_type": "code",
   "execution_count": 17,
   "id": "9b2f0e65-5135-4001-b015-08ccd6f98db6",
   "metadata": {},
   "outputs": [],
   "source": [
    "class PGReplay(ReplayBufferQue):\n",
    "\n",
    "    def __init__(self):\n",
    "        self.buffer = deque()\n",
    "\n",
    "    def sample(self):\n",
    "        batch = list(self.buffer)\n",
    "        return zip(*batch)"
   ]
  },
  {
   "cell_type": "code",
   "execution_count": 22,
   "id": "a78ed739-3063-4a92-94ac-24f67c106af2",
   "metadata": {},
   "outputs": [],
   "source": [
    "class Agent:\n",
    "    def __init__(self, cfg) -> None:\n",
    "        self.gamma = cfg.gamma\n",
    "        self.device = torch.device(cfg.device)\n",
    "        self.actor = ActorSoftmax(cfg.n_states, cfg.n_actions, hidden_dim=cfg.actor_hidden_dim).to(self.device)\n",
    "        self.critic = Critic(cfg.n_states, 1, hidden_dim=cfg.critic_hidden_dim).to(self.device)\n",
    "        self.actor_optimizer = torch.optim.Adam(self.actor.parameters(), lr=cfg.actor_lr)\n",
    "        self.critic_optimizer = torch.optim.Adam(self.critic.parameters(), lr=cfg.critic_lr)\n",
    "        self.memory = PGReplay()\n",
    "        self.k_epochs = cfg.k_epochs\n",
    "        self.eps_clip = cfg.eps_clip\n",
    "        self.entropy_coef = cfg.entropy_coef\n",
    "        self.sample_count = 0\n",
    "        self.update_freq = cfg.update_freq\n",
    "\n",
    "    def sample_action(self,state):\n",
    "        self.sample_count += 1\n",
    "        state = torch.tensor(state,device=self.device,dtype=torch.float32).unsqueeze(dim=0)\n",
    "        probs = self.actor(state)\n",
    "        dist = Categorical(probs)\n",
    "        action = dist.sample()\n",
    "        self.log_probs = dist.log_prob(action).detach()\n",
    "        return action.detach().cpu().numpy().item()\n",
    "\n",
    "    def update(self):\n",
    "        if self.sample_count % self.update_freq != 0:\n",
    "            return\n",
    "        old_states,old_actions,old_log_probs,old_rewards,old_dones = self.memory.sample()\n",
    "        old_states = torch.tensor(np.array(old_states), device=self.device, dtype=torch.float32)\n",
    "        old_actions = torch.tensor(np.array(old_actions), device=self.device, dtype=torch.float32)\n",
    "        old_log_probs = torch.tensor(old_log_probs, device=self.device, dtype=torch.float32)\n",
    "        returns = []\n",
    "        discounted_sum = 0\n",
    "        for reward,done in zip(reversed(old_rewards),reversed(old_dones)):\n",
    "            if done:\n",
    "                discounted_sum = 0\n",
    "            discounted_sum = reward + (self.gamma * discounted_sum)\n",
    "            returns.insert(0,discounted_sum)\n",
    "        returns = torch.tensor(returns,device=self.device,dtype=torch.float32)\n",
    "        returns = (returns - returns.mean()) / (returns.std() + 1e-5)\n",
    "        for _ in range(self.k_epochs):\n",
    "            values = self.critic(old_states)\n",
    "            advantage = returns - values.detach()\n",
    "            probs = self.actor(old_states)\n",
    "            dist = Categorical(probs)\n",
    "            new_probs = dist.log_prob(old_actions)\n",
    "            ratio = torch.exp(new_probs - old_log_probs)\n",
    "            surr1 = ratio * advantage\n",
    "            surr2 = torch.clamp(ratio,1-self.eps_clip,1+self.eps_clip) * advantage\n",
    "            actor_loss = -torch.min(surr1,surr2).mean() + self.entropy_coef * dist.entropy().mean()\n",
    "            critic_loss = (returns - values).pow(2).mean()\n",
    "            self.actor_optimizer.zero_grad()\n",
    "            self.critic_optimizer.zero_grad()\n",
    "            actor_loss.backward()\n",
    "            critic_loss.backward()\n",
    "            self.actor_optimizer.step()\n",
    "            self.critic_optimizer.step()\n",
    "        self.memory.clear()"
   ]
  },
  {
   "cell_type": "code",
   "execution_count": 23,
   "id": "9cbf83ca-2c3f-486c-88eb-498441afb247",
   "metadata": {},
   "outputs": [],
   "source": [
    "def train(cfg,env,agent):\n",
    "    print('begin to train')\n",
    "    rewards = []\n",
    "    steps = []\n",
    "    best_ep_reward = 0\n",
    "    output_agent = None\n",
    "    for i_ep in range(cfg.train_eps):\n",
    "        ep_reward = 0\n",
    "        ep_step = 0\n",
    "        state,_ = env.reset()\n",
    "        for _ in range(cfg.max_steps):\n",
    "            ep_steps += 1\n",
    "            action = agent.sample_action(state)\n",
    "            next_state,reward,terminated,truncated,_ = env.step(action)\n",
    "            env.render()\n",
    "            agent.memory.push((state,action,agent.log_probs,reward,terminated))\n",
    "            state = next_state\n",
    "            agent.update()\n",
    "            ep_reward += reward\n",
    "            if terminated:\n",
    "                break\n",
    "\n",
    "        if (i_ep + 1) % cfg.eval_per_episode == 0:\n",
    "            sum_eval_reward = 0\n",
    "            for _ in range(cfg.eval_eps):\n",
    "                eval_ep_reward = 0\n",
    "                state,_ = env.reset()\n",
    "                for _ in range(cfg.max_steps):\n",
    "                    action = agent.predict_action(state)\n",
    "                    next_state,reward,terminated,truncated,_= env.step(action)\n",
    "                    state = next_state\n",
    "                    eval_ep_reward += reward\n",
    "                    if terminated:\n",
    "                        break\n",
    "                sum_eval_reward += eval_ep_reward"
   ]
  },
  {
   "cell_type": "code",
   "execution_count": null,
   "id": "f092353a-7e9f-4873-8a81-155df437745f",
   "metadata": {},
   "outputs": [],
   "source": []
  }
 ],
 "metadata": {
  "kernelspec": {
   "display_name": "mem0",
   "language": "python",
   "name": "mem0"
  },
  "language_info": {
   "codemirror_mode": {
    "name": "ipython",
    "version": 3
   },
   "file_extension": ".py",
   "mimetype": "text/x-python",
   "name": "python",
   "nbconvert_exporter": "python",
   "pygments_lexer": "ipython3",
   "version": "3.10.14"
  }
 },
 "nbformat": 4,
 "nbformat_minor": 5
}
