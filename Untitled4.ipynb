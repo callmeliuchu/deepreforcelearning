{
 "cells": [
  {
   "cell_type": "code",
   "execution_count": 1,
   "id": "2d192efc-3ec8-42a1-865e-128513560a97",
   "metadata": {},
   "outputs": [],
   "source": [
    "import torch"
   ]
  },
  {
   "cell_type": "code",
   "execution_count": 27,
   "id": "323801aa-936b-4556-b9e2-a038e14d64a8",
   "metadata": {},
   "outputs": [],
   "source": [
    "from torch import nn\n",
    "import torch.nn.functional as F\n",
    "from torch.distributions import Categorical"
   ]
  },
  {
   "cell_type": "code",
   "execution_count": 23,
   "id": "b8f72652-63e6-4adc-b70e-808730f5640b",
   "metadata": {},
   "outputs": [],
   "source": [
    "from collections import deque\n",
    "from torch.optim import optimizer"
   ]
  },
  {
   "cell_type": "code",
   "execution_count": 7,
   "id": "f1117d91-37cf-4876-ad89-8561e43ceb6c",
   "metadata": {},
   "outputs": [],
   "source": [
    "class Critic(nn.Module):\n",
    "\n",
    "    def __init__(self,input_dim,output_dim,hidden_dim):\n",
    "        self.input_dim = input_dim\n",
    "        self.output_dim = output_dim\n",
    "        self.hidden_dim = hidden_dim\n",
    "        self.fc1 = nn.Linear(input_dim,hidden_dim)\n",
    "        self.fc2 = nn.Linear(hidden_dim,hidden_dim)\n",
    "        self.fc3 = nn.Linear(hidden_dim,output_dim)\n",
    "\n",
    "    def forward(self,x):\n",
    "        x = F.relu(self.fc1(x))\n",
    "        x = F.relu(self.fc2(x))\n",
    "        x = self.fc3(x)\n",
    "        return x\n",
    "        "
   ]
  },
  {
   "cell_type": "code",
   "execution_count": 6,
   "id": "71c11628-533c-4d0e-8bf2-c7863ea6378b",
   "metadata": {},
   "outputs": [],
   "source": [
    "class Actor(nn.Module):\n",
    "\n",
    "    def __init__(self,input_dim,output_dim,hidden_dim):\n",
    "        self.input_dim = input_dim\n",
    "        self.output_dim = output_dim\n",
    "        self.hidden_dim = hidden_dim\n",
    "        self.fc1 = nn.Linear(input_dim,hidden_dim)\n",
    "        self.fc2 = nn.Linear(hidden_dim,hidden_dim)\n",
    "        self.fc3 = nn.Linear(hidden_dim,output_dim)\n",
    "\n",
    "    def forward(self,x):\n",
    "        x = F.relu(self.fc1(x))\n",
    "        x = F.relu(self.fc2(x))\n",
    "        x = F.softmax(self.fc3(x),dim=-1)\n",
    "        return x\n",
    "        "
   ]
  },
  {
   "cell_type": "code",
   "execution_count": 17,
   "id": "c5b905e8-8bd8-4076-8466-8a220f098988",
   "metadata": {},
   "outputs": [],
   "source": [
    "class ReplayBudffer:\n",
    "\n",
    "    def __init__(self,maxlen=100):\n",
    "        self.buffer = deque(maxlen=maxlen)\n",
    "\n",
    "    def clear(self):\n",
    "        self.buffer.clear()\n",
    "\n",
    "    def sample(self):\n",
    "        return zip(*self.buffer)\n",
    "\n",
    "    def push(self,transitions):\n",
    "        self.buffer.append(transitions)"
   ]
  },
  {
   "cell_type": "code",
   "execution_count": 29,
   "id": "806df44f-c2f6-4b21-a0d6-3c4921d42e33",
   "metadata": {},
   "outputs": [],
   "source": [
    "class Agent:\n",
    "\n",
    "    def __init__(self,cfg):\n",
    "        self.ciritc = Critic(cfg.input_dim,1,cfg.hidden_dim)\n",
    "        self.actor = Actor(cfg.input_dim,cfg.output_dim,cfg.hidden_dim)\n",
    "        self.memory = ReplayBudffer(cfg.memory_len)\n",
    "        self.sample_count = 0\n",
    "        self.actor_optimizer = optimizer(self.actor.parameters())\n",
    "        self.critic_optimizer = optimizer(self.critic.parameters())\n",
    "\n",
    "    def sample_action(self,state):\n",
    "        output = self.actor(state)\n",
    "        category = Categorical(output)\n",
    "        action = category.sample()\n",
    "        return action.detach().cpu().numpy(), action.log()\n",
    "\n",
    "    \n",
    "    def update(self):\n",
    "        if len(self.memory) % 100 != 0:\n",
    "            return\n",
    "        old_actions,old_states,old_log_probs,old_rewards, old_dones = self.memory.sample()\n",
    "        returns = []\n",
    "        discounted_sum = 0\n",
    "        for reward,done in zip(reversed(old_rewards),reversed(old_dones)):\n",
    "            if done:\n",
    "                discounted_sum = 0\n",
    "            discounted_sum = discounted_sum * 0.99 + reward\n",
    "            returns.insert(0,discounted_sum)\n",
    "        returns = torch.tensor(returns,dtype=torch.float32)\n",
    "        for _ in range(100):\n",
    "            values = self.ciritc(old_states)\n",
    "            advantages = returns - values.detach()\n",
    "            probs = self.actor(old_states)\n",
    "            ratio = probs.log() - old_probs\n",
    "            ratio = torch.exp(ratio)\n",
    "            surr1 = advantages * ratio \n",
    "            surr2 = torch.clamp(0.8,1.2,ratio) * advantages\n",
    "            actor_loss = -torch.min(surr1,surr2).mean() + probs.entrooy().mean()\n",
    "            critic_loss = (returns - values) ** 2\n",
    "            self.critic_optimizer.zero_grad()\n",
    "            self.actor_optimizer.zero_grad()\n",
    "            actor_loss.backward()\n",
    "            critic_loss.backward()\n",
    "            self.critic_optimizer.step()\n",
    "            self.actor_optimizer.step()\n",
    "        self.memory.clear()"
   ]
  },
  {
   "cell_type": "code",
   "execution_count": 30,
   "id": "c0f32b91-6665-44d5-9c13-f9587066d24b",
   "metadata": {},
   "outputs": [],
   "source": [
    "def train(env,agent):\n",
    "    state,_ = env.reset()\n",
    "    for _ in range(100):\n",
    "        action,log_prob = agent.sample_action(state)\n",
    "        next_state,reward,done,truated = env.step(action)\n",
    "        agent.memory.push((action,state,log_prob,reward,done))\n",
    "        next_state = state\n",
    "        agent.update()\n",
    "        if done:\n",
    "            break"
   ]
  },
  {
   "cell_type": "code",
   "execution_count": null,
   "id": "944124bf-146e-466b-895f-6d12f411f301",
   "metadata": {},
   "outputs": [],
   "source": []
  }
 ],
 "metadata": {
  "kernelspec": {
   "display_name": "mem0",
   "language": "python",
   "name": "mem0"
  },
  "language_info": {
   "codemirror_mode": {
    "name": "ipython",
    "version": 3
   },
   "file_extension": ".py",
   "mimetype": "text/x-python",
   "name": "python",
   "nbconvert_exporter": "python",
   "pygments_lexer": "ipython3",
   "version": "3.10.14"
  }
 },
 "nbformat": 4,
 "nbformat_minor": 5
}
