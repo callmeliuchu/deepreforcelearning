{
 "cells": [
  {
   "cell_type": "code",
   "execution_count": 312,
   "id": "5772ff02",
   "metadata": {},
   "outputs": [],
   "source": [
    "import numpy as np\n",
    "import gymnasium as gym\n",
    "import random\n",
    "import matplotlib.pyplot as plt\n",
    "from collections import deque\n",
    "import torch\n",
    "import torch.nn as nn\n",
    "import torch.optim as optim\n",
    "import torch.nn.functional as F"
   ]
  },
  {
   "cell_type": "code",
   "execution_count": 313,
   "id": "1c3bbb18",
   "metadata": {},
   "outputs": [],
   "source": [
    "env = gym.make('CliffWalking-v0')\n",
    "state_size = env.observation_space.n\n",
    "action_size = env.action_space.n"
   ]
  },
  {
   "cell_type": "code",
   "execution_count": 314,
   "id": "2b1f24cb",
   "metadata": {},
   "outputs": [
    {
     "data": {
      "text/plain": [
       "np.int64(48)"
      ]
     },
     "execution_count": 314,
     "metadata": {},
     "output_type": "execute_result"
    }
   ],
   "source": [
    "state_size"
   ]
  },
  {
   "cell_type": "code",
   "execution_count": 315,
   "id": "ebee3d96",
   "metadata": {},
   "outputs": [
    {
     "data": {
      "text/plain": [
       "np.int64(4)"
      ]
     },
     "execution_count": 315,
     "metadata": {},
     "output_type": "execute_result"
    }
   ],
   "source": [
    "action_size"
   ]
  },
  {
   "cell_type": "code",
   "execution_count": 316,
   "id": "c1547b2d",
   "metadata": {},
   "outputs": [],
   "source": [
    "class DQN(nn.Module):\n",
    "    \n",
    "    def __init__(self,state_size,action_size):\n",
    "        super().__init__()\n",
    "        self.fc1 = nn.Linear(state_size,24)\n",
    "        self.fc2 = nn.Linear(24,24)\n",
    "        self.fc3 = nn.Linear(24,action_size)\n",
    "    \n",
    "    def forward(self,x):\n",
    "        x = F.relu(self.fc1(x))\n",
    "        x = F.relu(self.fc2(x))\n",
    "        return self.fc3(x)"
   ]
  },
  {
   "cell_type": "code",
   "execution_count": 317,
   "id": "78e7c25c",
   "metadata": {},
   "outputs": [],
   "source": [
    "dqn = DQN(state_size,action_size)"
   ]
  },
  {
   "cell_type": "code",
   "execution_count": 318,
   "id": "8eb615a2",
   "metadata": {},
   "outputs": [],
   "source": [
    "x = torch.ones((1,48))"
   ]
  },
  {
   "cell_type": "code",
   "execution_count": 319,
   "id": "b0a1795a",
   "metadata": {},
   "outputs": [
    {
     "data": {
      "text/plain": [
       "tensor([[1., 1., 1., 1., 1., 1., 1., 1., 1., 1., 1., 1., 1., 1., 1., 1., 1., 1.,\n",
       "         1., 1., 1., 1., 1., 1., 1., 1., 1., 1., 1., 1., 1., 1., 1., 1., 1., 1.,\n",
       "         1., 1., 1., 1., 1., 1., 1., 1., 1., 1., 1., 1.]])"
      ]
     },
     "execution_count": 319,
     "metadata": {},
     "output_type": "execute_result"
    }
   ],
   "source": [
    "x"
   ]
  },
  {
   "cell_type": "code",
   "execution_count": 320,
   "id": "0335008b",
   "metadata": {},
   "outputs": [
    {
     "data": {
      "text/plain": [
       "tensor([[0.0214, 0.0153, 0.1408, 0.0546]], grad_fn=<AddmmBackward0>)"
      ]
     },
     "execution_count": 320,
     "metadata": {},
     "output_type": "execute_result"
    }
   ],
   "source": [
    "dqn(x)"
   ]
  },
  {
   "cell_type": "code",
   "execution_count": 321,
   "id": "1d930f68",
   "metadata": {},
   "outputs": [
    {
     "data": {
      "text/plain": [
       "0.5669245214256547"
      ]
     },
     "execution_count": 321,
     "metadata": {},
     "output_type": "execute_result"
    }
   ],
   "source": [
    "np.random.random()"
   ]
  },
  {
   "cell_type": "code",
   "execution_count": 322,
   "id": "72c3b12c",
   "metadata": {},
   "outputs": [],
   "source": [
    "def convert(state):\n",
    "    ans = np.zeros(state_size)\n",
    "    ans[state] = 1\n",
    "    state_tensor = torch.FloatTensor(ans)\n",
    "    return state_tensor"
   ]
  },
  {
   "cell_type": "code",
   "execution_count": 323,
   "id": "f9b974bd",
   "metadata": {},
   "outputs": [],
   "source": [
    "class Agent:\n",
    "    \n",
    "    def __init__(self):\n",
    "        \n",
    "        self.eplison = 1.0\n",
    "        self.eplison_min = 0.01\n",
    "        self.eplison_decay = 0.995\n",
    "        self.gamma = 0.95\n",
    "        \n",
    "        self.model = DQN(state_size,action_size)\n",
    "        self.crition = nn.MSELoss()\n",
    "        self.optimizer = optim.AdamW(self.model.parameters(),lr=0.001)\n",
    "        \n",
    "        self.memory = deque(maxlen=2000)\n",
    "    \n",
    "    \n",
    "    def take_action(self,state,explore=True):\n",
    "        if explore:\n",
    "            if np.random.random() < self.eplison:\n",
    "                action = np.random.randint(action_size)\n",
    "            else:\n",
    "                with torch.no_grad():\n",
    "                    action_values = self.model(state)\n",
    "                    action = torch.argmax(action_values).item()\n",
    "            return action\n",
    "        else:\n",
    "            with torch.no_grad():\n",
    "                action_values = self.model(state)\n",
    "                action = torch.argmax(action_values).item()\n",
    "            return action\n",
    "                \n",
    "\n",
    "    def remember(self,state,action,reward,next_state,done):\n",
    "        self.memory.append((state,action,reward,next_state,done))\n",
    "    \n",
    "    \n",
    "    def update(self):\n",
    "        batch_size = 32\n",
    "        arr = random.sample(self.memory,batch_size)\n",
    "        loss = 0\n",
    "        for state,action,reward,next_state,done in arr:\n",
    "            \n",
    "            state_tensor = convert(state)\n",
    "            action_values = self.model(state_tensor)\n",
    "            \n",
    "            next_state_tensor = convert(next_state)\n",
    "            target_f = reward\n",
    "            if not done:\n",
    "                with torch.no_grad():\n",
    "                    target_values = self.model(next_state_tensor)\n",
    "                    target_f = reward + self.gamma * torch.max(target_values)\n",
    "                    target_f = target_f.item()\n",
    "#             tag = action_values.clone().detach()\n",
    "#             tag[action] = target_f\n",
    "            loss += (action_values[action]-target_f)**2\n",
    "        loss /= len(arr)\n",
    "#         loss = self.crition(action_values,tag)\n",
    "        self.optimizer.zero_grad()\n",
    "        loss.backward()\n",
    "        self.optimizer.step()\n",
    "        if self.eplison > self.eplison_min:\n",
    "            self.eplison *= self.eplison_decay"
   ]
  },
  {
   "cell_type": "code",
   "execution_count": 324,
   "id": "1036d9f7",
   "metadata": {},
   "outputs": [],
   "source": [
    "agent = Agent()"
   ]
  },
  {
   "cell_type": "code",
   "execution_count": 325,
   "id": "825864f4",
   "metadata": {},
   "outputs": [
    {
     "name": "stdout",
     "output_type": "stream",
     "text": [
      "Episode: 0/500, Reward: -891, Epsilon: 0.4373\n",
      "Episode: 10/500, Reward: -500, Epsilon: 0.0100\n",
      "Episode: 20/500, Reward: -17, Epsilon: 0.0100\n",
      "Episode: 30/500, Reward: -17, Epsilon: 0.0100\n",
      "Episode: 40/500, Reward: -15, Epsilon: 0.0100\n",
      "Episode: 50/500, Reward: -15, Epsilon: 0.0100\n",
      "Episode: 60/500, Reward: -51, Epsilon: 0.0100\n",
      "Episode: 70/500, Reward: -15, Epsilon: 0.0100\n",
      "Episode: 80/500, Reward: -15, Epsilon: 0.0100\n",
      "Episode: 90/500, Reward: -15, Epsilon: 0.0100\n",
      "Episode: 100/500, Reward: -15, Epsilon: 0.0100\n",
      "Episode: 110/500, Reward: -34, Epsilon: 0.0100\n",
      "Episode: 120/500, Reward: -15, Epsilon: 0.0100\n",
      "Episode: 130/500, Reward: -500, Epsilon: 0.0100\n",
      "Episode: 140/500, Reward: -15, Epsilon: 0.0100\n",
      "Episode: 150/500, Reward: -500, Epsilon: 0.0100\n",
      "Episode: 160/500, Reward: -15, Epsilon: 0.0100\n",
      "Episode: 170/500, Reward: -15, Epsilon: 0.0100\n",
      "Episode: 180/500, Reward: -15, Epsilon: 0.0100\n",
      "Episode: 190/500, Reward: -15, Epsilon: 0.0100\n",
      "Episode: 200/500, Reward: -15, Epsilon: 0.0100\n",
      "Episode: 210/500, Reward: -15, Epsilon: 0.0100\n",
      "Episode: 220/500, Reward: -17, Epsilon: 0.0100\n",
      "Episode: 230/500, Reward: -17, Epsilon: 0.0100\n",
      "Episode: 240/500, Reward: -15, Epsilon: 0.0100\n",
      "Episode: 250/500, Reward: -15, Epsilon: 0.0100\n",
      "Episode: 260/500, Reward: -15, Epsilon: 0.0100\n",
      "Episode: 270/500, Reward: -15, Epsilon: 0.0100\n",
      "Episode: 280/500, Reward: -15, Epsilon: 0.0100\n",
      "Episode: 290/500, Reward: -15, Epsilon: 0.0100\n",
      "Episode: 300/500, Reward: -15, Epsilon: 0.0100\n",
      "Episode: 310/500, Reward: -15, Epsilon: 0.0100\n",
      "Episode: 320/500, Reward: -15, Epsilon: 0.0100\n",
      "Episode: 330/500, Reward: -25, Epsilon: 0.0100\n",
      "Episode: 340/500, Reward: -92, Epsilon: 0.0100\n",
      "Episode: 350/500, Reward: -17, Epsilon: 0.0100\n",
      "Episode: 360/500, Reward: -17, Epsilon: 0.0100\n",
      "Episode: 370/500, Reward: -17, Epsilon: 0.0100\n",
      "Episode: 380/500, Reward: -15, Epsilon: 0.0100\n",
      "Episode: 390/500, Reward: -15, Epsilon: 0.0100\n",
      "Episode: 400/500, Reward: -15, Epsilon: 0.0100\n",
      "Episode: 410/500, Reward: -500, Epsilon: 0.0100\n",
      "Episode: 420/500, Reward: -20, Epsilon: 0.0100\n",
      "Episode: 430/500, Reward: -17, Epsilon: 0.0100\n",
      "Episode: 440/500, Reward: -15, Epsilon: 0.0100\n",
      "Episode: 450/500, Reward: -31, Epsilon: 0.0100\n",
      "Episode: 460/500, Reward: -15, Epsilon: 0.0100\n",
      "Episode: 470/500, Reward: -15, Epsilon: 0.0100\n",
      "Episode: 480/500, Reward: -15, Epsilon: 0.0100\n",
      "Episode: 490/500, Reward: -15, Epsilon: 0.0100\n"
     ]
    }
   ],
   "source": [
    "for e in range(500):\n",
    "    \n",
    "    state,_ = env.reset()\n",
    "    count = 0\n",
    "    rw = 0\n",
    "    for x in range(500):\n",
    "        state_tensor = convert(state)\n",
    "        action = agent.take_action(state_tensor)\n",
    "        next_state,reward,done,_,_ = env.step(action)\n",
    "        agent.remember(state,action,reward,next_state,done)\n",
    "        state = next_state\n",
    "        count += 1\n",
    "        rw += reward\n",
    "        if done:\n",
    "            break\n",
    "        \n",
    "        if len(agent.memory) > 32:\n",
    "            agent.update()\n",
    "        \n",
    "\n",
    "    if e % 10 == 0:  # 修正条件\n",
    "        print(f\"Episode: {e}/{500}, Reward: {rw}, Epsilon: {agent.eplison:.4f}\")\n"
   ]
  },
  {
   "cell_type": "code",
   "execution_count": 328,
   "id": "158de16f",
   "metadata": {},
   "outputs": [],
   "source": [
    "def test_agent(agent, episodes=10, render=True):\n",
    "    env = gym.make('CliffWalking-v0', render_mode='human' if render else None)\n",
    "    state_size = env.observation_space.n\n",
    "    \n",
    "    for e in range(episodes):\n",
    "        state, _ = env.reset()\n",
    "        total_reward = 0\n",
    "        done = False\n",
    "        \n",
    "        while not done:\n",
    "            if render:\n",
    "                env.render()\n",
    "            state = convert(state)\n",
    "            action = agent.take_action(state, explore=False)  # 测试时不探索\n",
    "            next_state, reward, done, _, _ = env.step(action)\n",
    "            state = next_state\n",
    "            total_reward += reward\n",
    "            \n",
    "            if done:\n",
    "                print(f\"Test episode: {e+1}/{episodes}, score: {total_reward}\")\n",
    "                break"
   ]
  },
  {
   "cell_type": "code",
   "execution_count": 329,
   "id": "999adcd9",
   "metadata": {},
   "outputs": [
    {
     "name": "stdout",
     "output_type": "stream",
     "text": [
      "Test episode: 1/10, score: -15\n"
     ]
    },
    {
     "name": "stderr",
     "output_type": "stream",
     "text": [
      "\n",
      "KeyboardInterrupt\n",
      "\n"
     ]
    }
   ],
   "source": [
    "test_agent(agent)"
   ]
  },
  {
   "cell_type": "code",
   "execution_count": null,
   "id": "717a2c1c",
   "metadata": {},
   "outputs": [],
   "source": []
  },
  {
   "cell_type": "code",
   "execution_count": null,
   "id": "746fa348",
   "metadata": {},
   "outputs": [],
   "source": []
  }
 ],
 "metadata": {
  "kernelspec": {
   "display_name": "mem0",
   "language": "python",
   "name": "mem0"
  },
  "language_info": {
   "codemirror_mode": {
    "name": "ipython",
    "version": 3
   },
   "file_extension": ".py",
   "mimetype": "text/x-python",
   "name": "python",
   "nbconvert_exporter": "python",
   "pygments_lexer": "ipython3",
   "version": "3.10.14"
  }
 },
 "nbformat": 4,
 "nbformat_minor": 5
}
