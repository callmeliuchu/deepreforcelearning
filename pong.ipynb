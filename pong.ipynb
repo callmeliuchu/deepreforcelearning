{
 "cells": [
  {
   "cell_type": "code",
   "execution_count": null,
   "id": "98f25d55",
   "metadata": {},
   "outputs": [
    {
     "name": "stdout",
     "output_type": "stream",
     "text": [
      "ep 0: game finished, reward: -1.0\n",
      "ep 0: game finished, reward: -1.0\n",
      "ep 0: game finished, reward: -1.0\n",
      "ep 0: game finished, reward: -1.0\n",
      "ep 0: game finished, reward: -1.0\n",
      "ep 0: game finished, reward: -1.0\n",
      "ep 0: game finished, reward: -1.0\n",
      "ep 0: game finished, reward: -1.0\n",
      "ep 0: game finished, reward: -1.0\n"
     ]
    }
   ],
   "source": [
    "import numpy as np\n",
    "import pickle  # 用 pickle 替代 cPickle\n",
    "import gym\n",
    "np.bool8 = np.bool_\n",
    "# 超参数\n",
    "H = 200  # 隐藏层神经元数量\n",
    "batch_size = 10  # 每多少集进行一次参数更新\n",
    "learning_rate = 1e-3\n",
    "gamma = 0.99  # 折扣因子\n",
    "decay_rate = 0.99  # RMSProp 衰减因子\n",
    "resume = False  # 是否从以前的检查点恢复\n",
    "render = False\n",
    "\n",
    "# 模型初始化\n",
    "D = 80 * 80  # 输入维度：80x80 网格\n",
    "if resume:\n",
    "    with open('save.p', 'rb') as f:\n",
    "        model = pickle.load(f)\n",
    "else:\n",
    "    model = {}\n",
    "    model['W1'] = np.random.randn(H, D) / np.sqrt(D)  # \"Xavier\" 初始化\n",
    "    model['W2'] = np.random.randn(H) / np.sqrt(H)\n",
    "\n",
    "# 更新缓存，用于 RMSProp 平滑梯度\n",
    "grad_buffer = {k: np.zeros_like(v) for k, v in model.items()}\n",
    "rmsprop_cache = {k: np.zeros_like(v) for k, v in model.items()}\n",
    "\n",
    "def sigmoid(x):\n",
    "    return 1.0 / (1.0 + np.exp(-x))  # sigmoid 函数\n",
    "\n",
    "def prepro(I):\n",
    "    \"\"\"将 210x160x3 uint8 帧预处理为 6400 (80x80) 1D float 向量\"\"\"\n",
    "    I = I[35:195]  # 裁剪\n",
    "    I = I[::2, ::2, 0]  # 下采样因子为 2\n",
    "    I[I == 144] = 0  # 删除背景类型 1\n",
    "    I[I == 109] = 0  # 删除背景类型 2\n",
    "    I[I != 0] = 1  # 其他设置为 1\n",
    "    return I.astype(np.float32).ravel()\n",
    "\n",
    "def discount_rewards(r):\n",
    "    \"\"\"对奖励进行折扣\"\"\"\n",
    "    discounted_r = np.zeros_like(r)\n",
    "    running_add = 0\n",
    "    for t in reversed(range(r.size)):\n",
    "        if r[t] != 0: running_add = 0  # 如果是游戏边界（仅对 Pong 特有）\n",
    "        running_add = running_add * gamma + r[t]\n",
    "        discounted_r[t] = running_add\n",
    "    return discounted_r\n",
    "\n",
    "def policy_forward(x):\n",
    "    h = np.dot(model['W1'], x)\n",
    "    h[h < 0] = 0  # ReLU\n",
    "    logp = np.dot(model['W2'], h)\n",
    "    p = sigmoid(logp)\n",
    "    return p, h  # 返回采取动作 2 的概率和隐藏状态\n",
    "\n",
    "def policy_backward(eph, epdlogp):\n",
    "    \"\"\"反向传播（eph 为隐藏状态数组）\"\"\"\n",
    "    dW2 = np.dot(eph.T, epdlogp).ravel()\n",
    "    dh = np.outer(epdlogp, model['W2'])\n",
    "    dh[eph <= 0] = 0  # Backprop ReLU\n",
    "    dW1 = np.dot(dh.T, epx)\n",
    "    return {'W1': dW1, 'W2': dW2}\n",
    "\n",
    "# 训练\n",
    "env = gym.make(\"Pong-v4\", render_mode=\"human\")\n",
    "observation, _ = env.reset()\n",
    "prev_x = None  # 用于计算差分帧\n",
    "xs, hs, dlogps, drs = [], [], [], []\n",
    "running_reward = None\n",
    "reward_sum = 0\n",
    "episode_number = 0\n",
    "\n",
    "while True:\n",
    "    if render: env.render()\n",
    "\n",
    "    # 预处理观测，设定网络输入为差分图像\n",
    "    cur_x = prepro(observation)\n",
    "    x = cur_x - prev_x if prev_x is not None else np.zeros(D)\n",
    "    prev_x = cur_x\n",
    "\n",
    "    # 前向传播并采样动作\n",
    "    aprob, h = policy_forward(x)\n",
    "    action = 2 if np.random.uniform() < aprob else 3  # 投掷骰子！\n",
    "\n",
    "    # 记录中间变量（后续用于反向传播）\n",
    "    xs.append(x)  # 观测值\n",
    "    hs.append(h)  # 隐藏状态\n",
    "    y = 1 if action == 2 else 0  # “伪标签”\n",
    "    dlogps.append(y - aprob)  # 梯度鼓励采取的动作\n",
    "\n",
    "    # 环境步进，获取新状态\n",
    "    observation, reward, terminated, truncated, info = env.step(action)  # 更新为新的返回值\n",
    "    reward_sum += reward\n",
    "\n",
    "    drs.append(reward)  # 记录奖励\n",
    "\n",
    "    if terminated or truncated:  # 一个回合结束\n",
    "        episode_number += 1\n",
    "\n",
    "        # 堆叠输入、隐藏状态、动作梯度和奖励\n",
    "        epx = np.vstack(xs)\n",
    "        eph = np.vstack(hs)\n",
    "        epdlogp = np.vstack(dlogps)\n",
    "        epr = np.vstack(drs)\n",
    "        xs, hs, dlogps, drs = [], [], [], []  # 重置数组\n",
    "\n",
    "        # 计算折扣奖励\n",
    "        discounted_epr = discount_rewards(epr)\n",
    "        # 标准化奖励\n",
    "        discounted_epr -= np.mean(discounted_epr)\n",
    "        discounted_epr /= np.std(discounted_epr)\n",
    "\n",
    "        epdlogp *= discounted_epr  # 使用优势调制梯度\n",
    "        grad = policy_backward(eph, epdlogp)\n",
    "        for k in model: grad_buffer[k] += grad[k]  # 在 batch 中累积梯度\n",
    "\n",
    "        # 每 batch_size 集执行 RMSProp 参数更新\n",
    "        if episode_number % batch_size == 0:\n",
    "            for k, v in model.items():\n",
    "                g = grad_buffer[k]\n",
    "                rmsprop_cache[k] = decay_rate * rmsprop_cache[k] + (1 - decay_rate) * g ** 2\n",
    "                model[k] += learning_rate * g / (np.sqrt(rmsprop_cache[k]) + 1e-5)\n",
    "                print(model[k])\n",
    "                grad_buffer[k] = np.zeros_like(v)  # 重置 batch 梯度缓存\n",
    "\n",
    "        # 记录\n",
    "        running_reward = reward_sum if running_reward is None else running_reward * 0.99 + reward_sum * 0.01\n",
    "        print(f'resetting env. episode reward total was {reward_sum}. running mean: {running_reward}')\n",
    "        if episode_number % 100 == 0:\n",
    "            with open('save.p', 'wb') as f:\n",
    "                pickle.dump(model, f)\n",
    "        reward_sum = 0\n",
    "        observation, _ = env.reset()\n",
    "        prev_x = None\n",
    "\n",
    "    if reward != 0:  # Pong 的奖励为 +1 或 -1（游戏结束时）\n",
    "        print(f'ep {episode_number}: game finished, reward: {reward}' + ('' if reward == -1 else ' !!!!!!!!'))\n"
   ]
  },
  {
   "cell_type": "code",
   "execution_count": null,
   "id": "aab5ebf1",
   "metadata": {},
   "outputs": [],
   "source": [
    "import gym\n",
    "print(gym.envs)"
   ]
  },
  {
   "cell_type": "code",
   "execution_count": 11,
   "id": "8fb4e14f",
   "metadata": {},
   "outputs": [
    {
     "name": "stdout",
     "output_type": "stream",
     "text": [
      "['CartPole-v0', 'CartPole-v1', 'MountainCar-v0', 'MountainCarContinuous-v0', 'Pendulum-v1', 'Acrobot-v1', 'LunarLander-v2', 'LunarLanderContinuous-v2', 'BipedalWalker-v3', 'BipedalWalkerHardcore-v3', 'CarRacing-v2', 'Blackjack-v1', 'FrozenLake-v1', 'FrozenLake8x8-v1', 'CliffWalking-v0', 'Taxi-v3', 'Reacher-v2', 'Reacher-v4', 'Pusher-v2', 'Pusher-v4', 'InvertedPendulum-v2', 'InvertedPendulum-v4', 'InvertedDoublePendulum-v2', 'InvertedDoublePendulum-v4', 'HalfCheetah-v2', 'HalfCheetah-v3', 'HalfCheetah-v4', 'Hopper-v2', 'Hopper-v3', 'Hopper-v4', 'Swimmer-v2', 'Swimmer-v3', 'Swimmer-v4', 'Walker2d-v2', 'Walker2d-v3', 'Walker2d-v4', 'Ant-v2', 'Ant-v3', 'Ant-v4', 'Humanoid-v2', 'Humanoid-v3', 'Humanoid-v4', 'HumanoidStandup-v2', 'HumanoidStandup-v4']\n"
     ]
    },
    {
     "name": "stderr",
     "output_type": "stream",
     "text": [
      "/Users/liuchu/opt/anaconda3/envs/mem0/lib/python3.10/site-packages/gym/envs/registration.py:555: UserWarning: \u001b[33mWARN: The environment CartPole-v0 is out of date. You should consider upgrading to version `v1`.\u001b[0m\n",
      "  logger.warn(\n"
     ]
    }
   ],
   "source": [
    "import gym\n",
    "\n",
    "# 列出所有可用环境\n",
    "print(list(gym.envs.registry.keys()))\n",
    "\n",
    "# 创建 Pong 环境\n",
    "env = gym.make(\"CartPole-v0\", render_mode=\"human\")"
   ]
  },
  {
   "cell_type": "code",
   "execution_count": 13,
   "id": "a8c75d63",
   "metadata": {},
   "outputs": [
    {
     "name": "stderr",
     "output_type": "stream",
     "text": [
      "2025-03-01 19:39:54.963 python[77328:35971822] +[IMKClient subclass]: chose IMKClient_Modern\n",
      "2025-03-01 19:39:54.963 python[77328:35971822] +[IMKInputSession subclass]: chose IMKInputSession_Modern\n"
     ]
    }
   ],
   "source": [
    "env.reset()\n",
    "env.render()"
   ]
  },
  {
   "cell_type": "code",
   "execution_count": null,
   "id": "7a778eda",
   "metadata": {},
   "outputs": [],
   "source": []
  }
 ],
 "metadata": {
  "kernelspec": {
   "display_name": "mem0",
   "language": "python",
   "name": "mem0"
  },
  "language_info": {
   "codemirror_mode": {
    "name": "ipython",
    "version": 3
   },
   "file_extension": ".py",
   "mimetype": "text/x-python",
   "name": "python",
   "nbconvert_exporter": "python",
   "pygments_lexer": "ipython3",
   "version": "3.10.14"
  }
 },
 "nbformat": 4,
 "nbformat_minor": 5
}
